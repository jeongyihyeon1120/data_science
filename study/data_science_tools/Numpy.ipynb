{
  "nbformat": 4,
  "nbformat_minor": 0,
  "metadata": {
    "colab": {
      "provenance": [],
      "toc_visible": true,
      "include_colab_link": true
    },
    "kernelspec": {
      "name": "python3",
      "display_name": "Python 3"
    }
  },
  "cells": [
    {
      "cell_type": "markdown",
      "metadata": {
        "id": "view-in-github",
        "colab_type": "text"
      },
      "source": [
        "<a href=\"https://colab.research.google.com/github/jeongyihyeon1120/data_science/blob/main/study/data_science_tools/Numpy.ipynb\" target=\"_parent\"><img src=\"https://colab.research.google.com/assets/colab-badge.svg\" alt=\"Open In Colab\"/></a>"
      ]
    },
    {
      "cell_type": "markdown",
      "metadata": {
        "id": "J_FfQuu2Tb30"
      },
      "source": [
        "# NumPy 한번에 제대로 배우기"
      ]
    },
    {
      "cell_type": "markdown",
      "metadata": {
        "id": "Zgrrh9T2vs8u"
      },
      "source": [
        "\n",
        "\n",
        "---\n",
        "\n"
      ]
    },
    {
      "cell_type": "markdown",
      "metadata": {
        "id": "oR5hNBH-Retd"
      },
      "source": [
        "## NumPy 특징\n",
        "\n",
        "* Numerical Python의 약자\n",
        "* 고성능 과학 계산용 패키지로 강력한 N차원 배열 객체\n",
        "* 범용적 데이터 처리에 사용 가능한 다차원 컨테이너\n",
        "* 정교한 브로드캐스팅(broadcasting) 기능\n",
        "* 파이썬의 자료형 list와 비슷하지만, 더 빠르고 메모리를 효율적으로 관리\n",
        "* 반복문 없이 데이터 배열에 대한 처리를 지원하여 빠르고 편리\n",
        "* 데이터 과학 도구에 대한 생태계의 핵심을 이루고 있음"
      ]
    },
    {
      "cell_type": "code",
      "metadata": {
        "id": "R9klTdhLQ564"
      },
      "source": [
        "import numpy as np"
      ],
      "execution_count": 1,
      "outputs": []
    },
    {
      "cell_type": "markdown",
      "metadata": {
        "id": "2hSWC5ptGyWP"
      },
      "source": [
        "\n",
        "\n",
        "---\n",
        "\n"
      ]
    },
    {
      "cell_type": "markdown",
      "metadata": {
        "id": "1kgkJZFlVUqk"
      },
      "source": [
        "## 배열 생성"
      ]
    },
    {
      "cell_type": "markdown",
      "metadata": {
        "id": "5eQ4sAkMbzm0"
      },
      "source": [
        "### 리스트로 배열 만들기\n"
      ]
    },
    {
      "cell_type": "code",
      "metadata": {
        "id": "Mtod2jcPWVvV",
        "colab": {
          "base_uri": "https://localhost:8080/"
        },
        "outputId": "dd752513-1a61-49f9-b5a7-0489be433c3f"
      },
      "source": [
        "a1 = np.array([1, 2, 3])\n",
        "print(a1)\n",
        "print(a1.shape)\n",
        "print(type(a1))"
      ],
      "execution_count": null,
      "outputs": [
        {
          "output_type": "stream",
          "name": "stdout",
          "text": [
            "[1 2 3]\n",
            "(3,)\n",
            "<class 'numpy.ndarray'>\n"
          ]
        }
      ]
    },
    {
      "cell_type": "code",
      "metadata": {
        "id": "vp9tkHH8esXT",
        "colab": {
          "base_uri": "https://localhost:8080/"
        },
        "outputId": "9ad188ae-0abe-4070-e276-96a7d751fa4f"
      },
      "source": [
        "a2 = np.array([ [1, 2 ,3], [4, 5, 6], [7, 8, 9] ])\n",
        "print(a2)\n",
        "print(a2.shape)"
      ],
      "execution_count": null,
      "outputs": [
        {
          "output_type": "stream",
          "name": "stdout",
          "text": [
            "[[1 2 3]\n",
            " [4 5 6]\n",
            " [7 8 9]]\n",
            "(3, 3)\n"
          ]
        }
      ]
    },
    {
      "cell_type": "code",
      "metadata": {
        "id": "Baj4gZ2meuJu",
        "colab": {
          "base_uri": "https://localhost:8080/"
        },
        "outputId": "012bea38-f7a6-4abd-d755-fb1195aac6f8"
      },
      "source": [
        "a3 = np.array([ [ [1, 2, 3], [4, 5, 6], [7, 8, 9] ],\n",
        "                [ [1, 2, 3], [4, 5, 6], [7, 8, 9] ],\n",
        "                [ [1, 2, 3], [4, 5, 6], [7, 8, 9] ] ])\n",
        "print(a3)\n",
        "print(a3.shape)"
      ],
      "execution_count": null,
      "outputs": [
        {
          "output_type": "stream",
          "name": "stdout",
          "text": [
            "[[[1 2 3]\n",
            "  [4 5 6]\n",
            "  [7 8 9]]\n",
            "\n",
            " [[1 2 3]\n",
            "  [4 5 6]\n",
            "  [7 8 9]]\n",
            "\n",
            " [[1 2 3]\n",
            "  [4 5 6]\n",
            "  [7 8 9]]]\n",
            "(3, 3, 3)\n"
          ]
        }
      ]
    },
    {
      "cell_type": "markdown",
      "metadata": {
        "id": "PNkKtw4CoSDB"
      },
      "source": [
        "### 배열 생성 및 초기화"
      ]
    },
    {
      "cell_type": "markdown",
      "metadata": {
        "id": "mJVii5p_VfgM"
      },
      "source": [
        "* `zeros()`: 모든 요소를 0으로 초기화"
      ]
    },
    {
      "cell_type": "code",
      "metadata": {
        "id": "W_SF1tVoVTf1",
        "colab": {
          "base_uri": "https://localhost:8080/"
        },
        "outputId": "a9389f58-5fc8-405c-abe6-1d1ed9f1628d"
      },
      "source": [
        "np.zeros(3)"
      ],
      "execution_count": null,
      "outputs": [
        {
          "output_type": "execute_result",
          "data": {
            "text/plain": [
              "array([0., 0., 0.])"
            ]
          },
          "metadata": {},
          "execution_count": 14
        }
      ]
    },
    {
      "cell_type": "markdown",
      "metadata": {
        "id": "LjYFQrODVqhX"
      },
      "source": [
        "* `ones()`: 모든 요소를 1로 초기화"
      ]
    },
    {
      "cell_type": "code",
      "metadata": {
        "id": "MURoqsMsVeUw",
        "colab": {
          "base_uri": "https://localhost:8080/"
        },
        "outputId": "979dde9c-0d6b-4dd1-df12-53084856fc22"
      },
      "source": [
        "np.ones((5, 6))"
      ],
      "execution_count": null,
      "outputs": [
        {
          "output_type": "execute_result",
          "data": {
            "text/plain": [
              "array([[1., 1., 1., 1., 1., 1.],\n",
              "       [1., 1., 1., 1., 1., 1.],\n",
              "       [1., 1., 1., 1., 1., 1.],\n",
              "       [1., 1., 1., 1., 1., 1.],\n",
              "       [1., 1., 1., 1., 1., 1.]])"
            ]
          },
          "metadata": {},
          "execution_count": 16
        }
      ]
    },
    {
      "cell_type": "markdown",
      "metadata": {
        "id": "jnmm3Cj-cGtx"
      },
      "source": [
        "* `full()`: 모든 요소를 지정한 값으로 초기화"
      ]
    },
    {
      "cell_type": "code",
      "metadata": {
        "id": "oscabrdcV7Ny",
        "colab": {
          "base_uri": "https://localhost:8080/"
        },
        "outputId": "5f751783-1ad9-4c8c-e3b2-3ee0af03b826"
      },
      "source": [
        "np.full((3, 4, 5), 3)"
      ],
      "execution_count": null,
      "outputs": [
        {
          "output_type": "execute_result",
          "data": {
            "text/plain": [
              "array([[[3, 3, 3, 3, 3],\n",
              "        [3, 3, 3, 3, 3],\n",
              "        [3, 3, 3, 3, 3],\n",
              "        [3, 3, 3, 3, 3]],\n",
              "\n",
              "       [[3, 3, 3, 3, 3],\n",
              "        [3, 3, 3, 3, 3],\n",
              "        [3, 3, 3, 3, 3],\n",
              "        [3, 3, 3, 3, 3]],\n",
              "\n",
              "       [[3, 3, 3, 3, 3],\n",
              "        [3, 3, 3, 3, 3],\n",
              "        [3, 3, 3, 3, 3],\n",
              "        [3, 3, 3, 3, 3]]])"
            ]
          },
          "metadata": {},
          "execution_count": 17
        }
      ]
    },
    {
      "cell_type": "markdown",
      "metadata": {
        "id": "0SRI4jbmlIKc"
      },
      "source": [
        "* `eye()`: 단위행렬(identity matrix) 생성\n",
        "  + 주대각선의 원소가 모두 1이고 나머지 원소는 모두 0인 정사각 행렬"
      ]
    },
    {
      "cell_type": "code",
      "metadata": {
        "id": "VceBVLLjk9o5",
        "colab": {
          "base_uri": "https://localhost:8080/"
        },
        "outputId": "308da6ba-2976-4a41-8c35-9bd19612c3cb"
      },
      "source": [
        "np.eye(3)"
      ],
      "execution_count": null,
      "outputs": [
        {
          "output_type": "execute_result",
          "data": {
            "text/plain": [
              "array([[1., 0., 0., 0.],\n",
              "       [0., 1., 0., 0.],\n",
              "       [0., 0., 1., 0.]])"
            ]
          },
          "metadata": {},
          "execution_count": 24
        }
      ]
    },
    {
      "cell_type": "markdown",
      "metadata": {
        "id": "7CCH1ZMT5R02"
      },
      "source": [
        "* `tri()`: 삼각행렬 생성"
      ]
    },
    {
      "cell_type": "code",
      "metadata": {
        "id": "mLe2Bhj05VYu",
        "colab": {
          "base_uri": "https://localhost:8080/"
        },
        "outputId": "9344f62f-42c4-4b2f-a821-6e48c90674c6"
      },
      "source": [
        "np.tri(5)"
      ],
      "execution_count": null,
      "outputs": [
        {
          "output_type": "execute_result",
          "data": {
            "text/plain": [
              "array([[1., 0., 0., 0., 0., 0., 0.],\n",
              "       [1., 1., 0., 0., 0., 0., 0.],\n",
              "       [1., 1., 1., 0., 0., 0., 0.],\n",
              "       [1., 1., 1., 1., 0., 0., 0.],\n",
              "       [1., 1., 1., 1., 1., 0., 0.]])"
            ]
          },
          "metadata": {},
          "execution_count": 26
        }
      ]
    },
    {
      "cell_type": "markdown",
      "metadata": {
        "id": "ObZRA4HclZlO"
      },
      "source": [
        "* `empty()`: 초기화되지 않은 배열 생성\n",
        "  + 초기화가 없어서 배열 생성비용 저렴하고 빠름\n",
        "  + 초기화되지 않아서 기존 메모리 위치에 존재하는 값이 있음"
      ]
    },
    {
      "cell_type": "code",
      "metadata": {
        "id": "I3SoFgiglAkz",
        "colab": {
          "base_uri": "https://localhost:8080/"
        },
        "outputId": "4eb10cd5-e440-44dc-8ba2-8e90ca2417aa"
      },
      "source": [
        "np.empty((10, 3))"
      ],
      "execution_count": null,
      "outputs": [
        {
          "output_type": "execute_result",
          "data": {
            "text/plain": [
              "array([[1., 0., 0.],\n",
              "       [0., 0., 0.],\n",
              "       [1., 1., 0.],\n",
              "       [0., 0., 0.],\n",
              "       [1., 1., 1.],\n",
              "       [0., 0., 0.],\n",
              "       [1., 1., 1.],\n",
              "       [1., 0., 0.],\n",
              "       [1., 1., 1.],\n",
              "       [1., 1., 0.]])"
            ]
          },
          "metadata": {},
          "execution_count": 27
        }
      ]
    },
    {
      "cell_type": "markdown",
      "metadata": {
        "id": "p3uSl1Ccmi5_"
      },
      "source": [
        "* `_like()`: 지정된 배열과 shape가 같은 행렬 생성\n",
        "  + `np.zeros_like()`\n",
        "  + `np.ones_like()`\n",
        "  + `np.full_like()`\n",
        "  + `np.empty_like()`"
      ]
    },
    {
      "cell_type": "code",
      "metadata": {
        "id": "Ad5RskRRlZLs",
        "colab": {
          "base_uri": "https://localhost:8080/"
        },
        "outputId": "f685477b-f47a-4496-ef2b-78c91d29efc0"
      },
      "source": [
        "np.zeros_like(a1)"
      ],
      "execution_count": null,
      "outputs": [
        {
          "output_type": "execute_result",
          "data": {
            "text/plain": [
              "array([0, 0, 0])"
            ]
          },
          "metadata": {},
          "execution_count": 28
        }
      ]
    },
    {
      "cell_type": "code",
      "metadata": {
        "id": "KChUHsG003Nf",
        "colab": {
          "base_uri": "https://localhost:8080/"
        },
        "outputId": "8b00a3bb-1c40-4fde-fb3b-18ee000b0f0f"
      },
      "source": [
        "np.ones_like(a2)"
      ],
      "execution_count": null,
      "outputs": [
        {
          "output_type": "execute_result",
          "data": {
            "text/plain": [
              "array([[1, 1, 1],\n",
              "       [1, 1, 1],\n",
              "       [1, 1, 1]])"
            ]
          },
          "metadata": {},
          "execution_count": 29
        }
      ]
    },
    {
      "cell_type": "code",
      "metadata": {
        "id": "PUnDz6b305Gg",
        "colab": {
          "base_uri": "https://localhost:8080/"
        },
        "outputId": "a4514278-eb5d-4fce-e816-bac411f6cb07"
      },
      "source": [
        "np.full_like(a3, 7)"
      ],
      "execution_count": null,
      "outputs": [
        {
          "output_type": "execute_result",
          "data": {
            "text/plain": [
              "array([[[7, 7, 7],\n",
              "        [7, 7, 7],\n",
              "        [7, 7, 7]],\n",
              "\n",
              "       [[7, 7, 7],\n",
              "        [7, 7, 7],\n",
              "        [7, 7, 7]],\n",
              "\n",
              "       [[7, 7, 7],\n",
              "        [7, 7, 7],\n",
              "        [7, 7, 7]]])"
            ]
          },
          "metadata": {},
          "execution_count": 30
        }
      ]
    },
    {
      "cell_type": "markdown",
      "metadata": {
        "id": "apoksGJNrn1z"
      },
      "source": [
        "### 생성한 값으로 배열 생성"
      ]
    },
    {
      "cell_type": "markdown",
      "metadata": {
        "id": "H3nmLct8cnV8"
      },
      "source": [
        "* `arange()`: 정수 범위로 배열 생성"
      ]
    },
    {
      "cell_type": "code",
      "metadata": {
        "id": "mANy4WY4cDKa",
        "colab": {
          "base_uri": "https://localhost:8080/"
        },
        "outputId": "2527d2d3-b365-43ab-8e5b-0444501aa4cc"
      },
      "source": [
        "np.arange(0, 30, 2)"
      ],
      "execution_count": null,
      "outputs": [
        {
          "output_type": "execute_result",
          "data": {
            "text/plain": [
              "array([ 0,  2,  4,  6,  8, 10, 12, 14, 16, 18, 20, 22, 24, 26, 28])"
            ]
          },
          "metadata": {},
          "execution_count": 31
        }
      ]
    },
    {
      "cell_type": "markdown",
      "metadata": {
        "id": "s5kET1e6itlo"
      },
      "source": [
        "* `linspace()`: 범위 내에서 균등 간격의 배열 생성"
      ]
    },
    {
      "cell_type": "code",
      "metadata": {
        "id": "u4q9gI7Zcltz",
        "colab": {
          "base_uri": "https://localhost:8080/"
        },
        "outputId": "9456da87-618d-4269-fa4e-57ee6ab0e3e3"
      },
      "source": [
        "np.linspace(0, 1, 5)"
      ],
      "execution_count": null,
      "outputs": [
        {
          "output_type": "execute_result",
          "data": {
            "text/plain": [
              "array([0.  , 0.25, 0.5 , 0.75, 1.  ])"
            ]
          },
          "metadata": {},
          "execution_count": 32
        }
      ]
    },
    {
      "cell_type": "markdown",
      "metadata": {
        "id": "Eq26d7T3nnAH"
      },
      "source": [
        "* `logspace()`: 범위 내에서 균등간격으로 로그 스케일로 배열 생성"
      ]
    },
    {
      "cell_type": "code",
      "metadata": {
        "id": "-O29WBVEnyXX",
        "colab": {
          "base_uri": "https://localhost:8080/"
        },
        "outputId": "b2effe59-540a-41d1-b589-a6655f00eee0"
      },
      "source": [
        "np.logspace(0.1, 1, 10)"
      ],
      "execution_count": null,
      "outputs": [
        {
          "output_type": "execute_result",
          "data": {
            "text/plain": [
              "array([ 1.25892541,  1.58489319,  1.99526231,  2.51188643,  3.16227766,\n",
              "        3.98107171,  5.01187234,  6.30957344,  7.94328235, 10.        ])"
            ]
          },
          "metadata": {},
          "execution_count": 33
        }
      ]
    },
    {
      "cell_type": "markdown",
      "metadata": {
        "id": "6_88s4_Jr7fO"
      },
      "source": [
        "### 랜덤값으로 배열 생성\n"
      ]
    },
    {
      "cell_type": "markdown",
      "metadata": {
        "id": "CoK1cVUkjNMg"
      },
      "source": [
        "* `random.random()`: 랜덤한 수의 배열 생성"
      ]
    },
    {
      "cell_type": "code",
      "metadata": {
        "id": "qJwccKEnjMze",
        "colab": {
          "base_uri": "https://localhost:8080/"
        },
        "outputId": "41733128-f1d6-45bb-9f25-71a7f2e4688d"
      },
      "source": [
        "np.random.random((3,3))"
      ],
      "execution_count": null,
      "outputs": [
        {
          "output_type": "execute_result",
          "data": {
            "text/plain": [
              "array([[0.4534475 , 0.33297964, 0.32753607],\n",
              "       [0.94418814, 0.71767214, 0.451595  ],\n",
              "       [0.26940976, 0.41571585, 0.63210108]])"
            ]
          },
          "metadata": {},
          "execution_count": 9
        }
      ]
    },
    {
      "cell_type": "markdown",
      "metadata": {
        "id": "BYsAVwA1kvDI"
      },
      "source": [
        "* `random.randint()`: 일정 구간의 랜덤 정수의 배열 생성"
      ]
    },
    {
      "cell_type": "code",
      "metadata": {
        "id": "oR-UszZ_jqfQ",
        "colab": {
          "base_uri": "https://localhost:8080/"
        },
        "outputId": "b8ac624f-8228-44c3-c6cb-0947eb481b97"
      },
      "source": [
        "np.random.randint(0, 10, (3, 3))"
      ],
      "execution_count": null,
      "outputs": [
        {
          "output_type": "execute_result",
          "data": {
            "text/plain": [
              "array([[0, 5, 1],\n",
              "       [0, 5, 5],\n",
              "       [5, 9, 1]])"
            ]
          },
          "metadata": {},
          "execution_count": 38
        }
      ]
    },
    {
      "cell_type": "markdown",
      "metadata": {
        "id": "2r557WHsjrL3"
      },
      "source": [
        "* `random.normal()`: 정규분포(normal distribution)를 고려한 랜덤한 수의 배열 생성\n",
        "* 평균=0, 표준편차=1, 3 x 3 배열"
      ]
    },
    {
      "cell_type": "code",
      "metadata": {
        "id": "Oan3bSpHi2Wq",
        "colab": {
          "base_uri": "https://localhost:8080/"
        },
        "outputId": "38d06de7-859e-425a-cd32-ac3a0f61b440"
      },
      "source": [
        "np.random.normal(0, 1, (3, 3))"
      ],
      "execution_count": null,
      "outputs": [
        {
          "output_type": "execute_result",
          "data": {
            "text/plain": [
              "array([[-0.45458101, -0.83871069,  0.81050105],\n",
              "       [-0.78911704,  0.57228012,  0.82846799],\n",
              "       [-0.73194633, -0.60273121,  0.83056631]])"
            ]
          },
          "metadata": {},
          "execution_count": 43
        }
      ]
    },
    {
      "cell_type": "markdown",
      "metadata": {
        "id": "fPO-D1rHsrFw"
      },
      "source": [
        "* `random.rand()`: 균등분포(uniform distribution)를 고려한 랜덤한 수의 배열 생성"
      ]
    },
    {
      "cell_type": "code",
      "metadata": {
        "id": "DxiyEjnXnDUT",
        "colab": {
          "base_uri": "https://localhost:8080/"
        },
        "outputId": "da0ebb94-ad88-4e2a-eaf9-4a5fea9013b0"
      },
      "source": [
        "np.random.rand(3, 3)"
      ],
      "execution_count": null,
      "outputs": [
        {
          "output_type": "execute_result",
          "data": {
            "text/plain": [
              "array([[0.83529561, 0.34594221, 0.82066367],\n",
              "       [0.29543018, 0.82582813, 0.48708146],\n",
              "       [0.45311589, 0.78652824, 0.35668644]])"
            ]
          },
          "metadata": {},
          "execution_count": 45
        }
      ]
    },
    {
      "cell_type": "markdown",
      "metadata": {
        "id": "IegH2dsPLQgd"
      },
      "source": [
        "* `random.randn()`: 표준 정규 분포(standard normal distribution)를 고려한 랜덤한 수의 배열 생성"
      ]
    },
    {
      "cell_type": "code",
      "metadata": {
        "id": "V61VHa-JLIma",
        "colab": {
          "base_uri": "https://localhost:8080/"
        },
        "outputId": "3977b676-1268-4eb6-85d7-745f2398c93c"
      },
      "source": [
        "np.random.randn(3,3)"
      ],
      "execution_count": null,
      "outputs": [
        {
          "output_type": "execute_result",
          "data": {
            "text/plain": [
              "array([[ 0.85333235, -0.20794081, -0.61711212],\n",
              "       [-0.5603882 , -0.30537162,  1.08376402],\n",
              "       [-0.37372361,  0.26631355, -1.31110011]])"
            ]
          },
          "metadata": {},
          "execution_count": 47
        }
      ]
    },
    {
      "cell_type": "markdown",
      "metadata": {
        "id": "5ts0cYLQL_pT"
      },
      "source": [
        "### 표준 데이터 타입"
      ]
    },
    {
      "cell_type": "code",
      "metadata": {
        "id": "rxqTqAFKL73y",
        "colab": {
          "base_uri": "https://localhost:8080/"
        },
        "outputId": "bee4875b-3de6-4b8b-c724-227519c3dcb2"
      },
      "source": [
        "np.zeros(10, dtype=int)"
      ],
      "execution_count": null,
      "outputs": [
        {
          "output_type": "execute_result",
          "data": {
            "text/plain": [
              "array([0, 0, 0, 0, 0, 0, 0, 0, 0, 0])"
            ]
          },
          "metadata": {},
          "execution_count": 10
        }
      ]
    },
    {
      "cell_type": "code",
      "metadata": {
        "id": "o9TuSl6HIsXr",
        "colab": {
          "base_uri": "https://localhost:8080/"
        },
        "outputId": "467f9994-2332-4cbd-e306-dd47598cafa1"
      },
      "source": [
        "np.ones((3, 3), dtype=bool)"
      ],
      "execution_count": null,
      "outputs": [
        {
          "output_type": "execute_result",
          "data": {
            "text/plain": [
              "array([[ True,  True,  True],\n",
              "       [ True,  True,  True],\n",
              "       [ True,  True,  True]])"
            ]
          },
          "metadata": {},
          "execution_count": 11
        }
      ]
    },
    {
      "cell_type": "code",
      "metadata": {
        "id": "w-TciNfzEhY0",
        "colab": {
          "base_uri": "https://localhost:8080/"
        },
        "outputId": "04488827-cdfc-4014-bff9-53e5a6db615d"
      },
      "source": [
        "np.full((3, 3), 1.0, dtype=float)"
      ],
      "execution_count": null,
      "outputs": [
        {
          "output_type": "execute_result",
          "data": {
            "text/plain": [
              "array([[1., 1., 1.],\n",
              "       [1., 1., 1.],\n",
              "       [1., 1., 1.]])"
            ]
          },
          "metadata": {},
          "execution_count": 12
        }
      ]
    },
    {
      "cell_type": "markdown",
      "metadata": {
        "id": "1qFumu-p-0mQ"
      },
      "source": [
        "### 날짜/시간 배열 생성\n"
      ]
    },
    {
      "cell_type": "code",
      "metadata": {
        "id": "D8ozvTUf-6Rr",
        "colab": {
          "base_uri": "https://localhost:8080/"
        },
        "outputId": "9313bbf8-532f-40ff-d94b-10144c525a88"
      },
      "source": [
        "date = np.array(\"2020-01-01\", dtype=np.datetime64)\n",
        "date"
      ],
      "execution_count": null,
      "outputs": [
        {
          "output_type": "execute_result",
          "data": {
            "text/plain": [
              "array('2020-01-01', dtype='datetime64[D]')"
            ]
          },
          "metadata": {},
          "execution_count": 14
        }
      ]
    },
    {
      "cell_type": "code",
      "metadata": {
        "id": "XIjLUkn6_K3J",
        "colab": {
          "base_uri": "https://localhost:8080/"
        },
        "outputId": "1e4562a7-9287-4e5a-ce5f-3fa4316997c5"
      },
      "source": [
        "date + np.arange(12)"
      ],
      "execution_count": null,
      "outputs": [
        {
          "output_type": "execute_result",
          "data": {
            "text/plain": [
              "array(['2020-01-01', '2020-01-02', '2020-01-03', '2020-01-04',\n",
              "       '2020-01-05', '2020-01-06', '2020-01-07', '2020-01-08',\n",
              "       '2020-01-09', '2020-01-10', '2020-01-11', '2020-01-12'],\n",
              "      dtype='datetime64[D]')"
            ]
          },
          "metadata": {},
          "execution_count": 15
        }
      ]
    },
    {
      "cell_type": "code",
      "source": [
        "date = np.array(\"2020-01\", dtype=np.datetime64)\n",
        "date + np.arange(12)"
      ],
      "metadata": {
        "colab": {
          "base_uri": "https://localhost:8080/"
        },
        "id": "jlo5IiUMpN67",
        "outputId": "d26f12ef-3785-4aac-8a97-36053209d1c5"
      },
      "execution_count": null,
      "outputs": [
        {
          "output_type": "execute_result",
          "data": {
            "text/plain": [
              "array(['2020-01', '2020-02', '2020-03', '2020-04', '2020-05', '2020-06',\n",
              "       '2020-07', '2020-08', '2020-09', '2020-10', '2020-11', '2020-12'],\n",
              "      dtype='datetime64[M]')"
            ]
          },
          "metadata": {},
          "execution_count": 26
        }
      ]
    },
    {
      "cell_type": "code",
      "metadata": {
        "id": "EO7yE5VR_Wlh",
        "colab": {
          "base_uri": "https://localhost:8080/"
        },
        "outputId": "56fe068b-e846-47fc-eba3-d9b9ab4f80d7"
      },
      "source": [
        "datetime = np.datetime64(\"2020-06-01 12:00\")\n",
        "datetime"
      ],
      "execution_count": null,
      "outputs": [
        {
          "output_type": "execute_result",
          "data": {
            "text/plain": [
              "numpy.datetime64('2020-06-01T12:00')"
            ]
          },
          "metadata": {},
          "execution_count": 16
        }
      ]
    },
    {
      "cell_type": "code",
      "metadata": {
        "id": "3dnOlf9i_kzX",
        "colab": {
          "base_uri": "https://localhost:8080/"
        },
        "outputId": "953e2bea-f8b0-4fbc-c069-6b77338cc52c"
      },
      "source": [
        "datetime = np.datetime64(\"2020-06-01 12:00:12.34\", \"ns\")\n",
        "datetime"
      ],
      "execution_count": null,
      "outputs": [
        {
          "output_type": "execute_result",
          "data": {
            "text/plain": [
              "numpy.datetime64('2020-06-01T12:00:12.340000000')"
            ]
          },
          "metadata": {},
          "execution_count": 20
        }
      ]
    },
    {
      "cell_type": "markdown",
      "metadata": {
        "id": "5AREIamhGxAr"
      },
      "source": [
        "\n",
        "\n",
        "---\n",
        "\n"
      ]
    },
    {
      "cell_type": "markdown",
      "metadata": {
        "id": "d88tkTqbBE5V"
      },
      "source": [
        "## 배열 조회"
      ]
    },
    {
      "cell_type": "markdown",
      "metadata": {
        "id": "vRqwfbjtFnPn"
      },
      "source": [
        "### 배열 속성 정보"
      ]
    },
    {
      "cell_type": "code",
      "metadata": {
        "id": "R5Rlcll7GXrM"
      },
      "source": [
        "def array_info(array):\n",
        "  print(array)\n",
        "  print(\"ndim:\", array.ndim)\n",
        "  print(\"shape:\", array.shape)\n",
        "  print(\"dtype:\", array.dtype)\n",
        "  print(\"size:\", array.size)\n",
        "  print(\"itemsize:\",array.itemsize)\n",
        "  print(\"nbytes:\", array.nbytes)\n",
        "  print(\"strides:\", array.strides)"
      ],
      "execution_count": null,
      "outputs": []
    },
    {
      "cell_type": "code",
      "metadata": {
        "id": "Na59LwA7KXZV",
        "colab": {
          "base_uri": "https://localhost:8080/"
        },
        "outputId": "7b3f2e2b-0cf8-4774-b8a8-0ec52bf1e7c7"
      },
      "source": [
        "array_info(a1)"
      ],
      "execution_count": null,
      "outputs": [
        {
          "output_type": "stream",
          "name": "stdout",
          "text": [
            "[1 2 3]\n",
            "ndim: 1\n",
            "shape: (3,)\n",
            "dtype: int64\n",
            "size: 3\n",
            "itemsize: 8\n",
            "nbytes: 24\n",
            "strides: (8,)\n"
          ]
        }
      ]
    },
    {
      "cell_type": "code",
      "metadata": {
        "id": "Urzr_LsdLah0",
        "colab": {
          "base_uri": "https://localhost:8080/"
        },
        "outputId": "5ed30450-0987-4efa-e02f-ace3bc21f67b"
      },
      "source": [
        "array_info(a2)"
      ],
      "execution_count": null,
      "outputs": [
        {
          "output_type": "stream",
          "name": "stdout",
          "text": [
            "[[1 2 3]\n",
            " [4 5 6]\n",
            " [7 8 9]]\n",
            "ndim: 2\n",
            "shape: (3, 3)\n",
            "dtype: int64\n",
            "size: 9\n",
            "itemsize: 8\n",
            "nbytes: 72\n",
            "strides: (24, 8)\n"
          ]
        }
      ]
    },
    {
      "cell_type": "code",
      "metadata": {
        "id": "jktqh1lsLf4V",
        "colab": {
          "base_uri": "https://localhost:8080/"
        },
        "outputId": "64d3ca97-9d16-4ba1-d117-8eebd374400f"
      },
      "source": [
        "array_info(a3)"
      ],
      "execution_count": null,
      "outputs": [
        {
          "output_type": "stream",
          "name": "stdout",
          "text": [
            "[[[1 2 3]\n",
            "  [4 5 6]\n",
            "  [7 8 9]]\n",
            "\n",
            " [[1 2 3]\n",
            "  [4 5 6]\n",
            "  [7 8 9]]\n",
            "\n",
            " [[1 2 3]\n",
            "  [4 5 6]\n",
            "  [7 8 9]]]\n",
            "ndim: 3\n",
            "shape: (3, 3, 3)\n",
            "dtype: int64\n",
            "size: 27\n",
            "itemsize: 8\n",
            "nbytes: 216\n",
            "strides: (72, 24, 8)\n"
          ]
        }
      ]
    },
    {
      "cell_type": "markdown",
      "metadata": {
        "id": "LV1WfdBWFqDu"
      },
      "source": [
        "### 인덱싱(Indexing)"
      ]
    },
    {
      "cell_type": "code",
      "metadata": {
        "id": "Nyb7eDmGFr5m",
        "colab": {
          "base_uri": "https://localhost:8080/"
        },
        "outputId": "25555085-7dda-4d90-ec20-ee9e425918f9"
      },
      "source": [
        "print(a1)\n",
        "print(a1[0])\n",
        "print(a1[-1])"
      ],
      "execution_count": null,
      "outputs": [
        {
          "output_type": "stream",
          "name": "stdout",
          "text": [
            "[1 2 3]\n",
            "1\n",
            "3\n"
          ]
        }
      ]
    },
    {
      "cell_type": "code",
      "metadata": {
        "id": "uHMNcQW3Kn-h",
        "colab": {
          "base_uri": "https://localhost:8080/"
        },
        "outputId": "6a0962b9-7605-4b29-d899-3f4368ff6a8a"
      },
      "source": [
        "print(a2)\n",
        "print(a2[0,0])\n",
        "print(a2[-1][-1])"
      ],
      "execution_count": null,
      "outputs": [
        {
          "output_type": "stream",
          "name": "stdout",
          "text": [
            "[[1 2 3]\n",
            " [4 5 6]\n",
            " [7 8 9]]\n",
            "1\n",
            "9\n"
          ]
        }
      ]
    },
    {
      "cell_type": "code",
      "metadata": {
        "id": "IX5yDMGiMxYZ",
        "colab": {
          "base_uri": "https://localhost:8080/"
        },
        "outputId": "12feb89a-046f-4139-dcc5-1ab04c595ce8"
      },
      "source": [
        "print(a3)\n",
        "print(a3[0,0,0])\n",
        "print(a3[-1,-1,-1])\n",
        "print(a3[2, 2, 2])"
      ],
      "execution_count": null,
      "outputs": [
        {
          "output_type": "stream",
          "name": "stdout",
          "text": [
            "[[[1 2 3]\n",
            "  [4 5 6]\n",
            "  [7 8 9]]\n",
            "\n",
            " [[1 2 3]\n",
            "  [4 5 6]\n",
            "  [7 8 9]]\n",
            "\n",
            " [[1 2 3]\n",
            "  [4 5 6]\n",
            "  [7 8 9]]]\n",
            "1\n",
            "9\n",
            "9\n"
          ]
        }
      ]
    },
    {
      "cell_type": "markdown",
      "metadata": {
        "id": "uSeXu2y_O4cu"
      },
      "source": [
        "### 슬라이싱(Slicing)"
      ]
    },
    {
      "cell_type": "markdown",
      "metadata": {
        "id": "1hikO_6ZPp5m"
      },
      "source": [
        "* 슬라이싱 구문: `a[start:stop:step]`\n",
        "* 기본값: start=0, stop=ndim, step=1"
      ]
    },
    {
      "cell_type": "code",
      "metadata": {
        "id": "PYZOOCoVO7BF",
        "colab": {
          "base_uri": "https://localhost:8080/"
        },
        "outputId": "acfc660e-b96d-419f-82f2-ce152dff45e4"
      },
      "source": [
        "a1 = np.array([1, 2, 3, 4, 5])\n",
        "print(a1)\n",
        "print(a1[0:2])\n",
        "print(a1[0:])\n",
        "print(a1[:1])\n",
        "print(a1[::2])\n",
        "print(a1[::-1])"
      ],
      "execution_count": null,
      "outputs": [
        {
          "output_type": "stream",
          "name": "stdout",
          "text": [
            "[1 2 3 4 5]\n",
            "[1 2]\n",
            "[1 2 3 4 5]\n",
            "[1]\n",
            "[1 3 5]\n",
            "[5 4 3 2 1]\n"
          ]
        }
      ]
    },
    {
      "cell_type": "code",
      "metadata": {
        "id": "oULOFrBQWs1G",
        "colab": {
          "base_uri": "https://localhost:8080/"
        },
        "outputId": "2c6d1473-8acf-43f2-a7bf-2f493083d2ea"
      },
      "source": [
        "print(a2)\n",
        "print(a2[1])\n",
        "print(a2[:1, 1:2])\n",
        "print(a2[1, :1])\n",
        "print(a2[1:, ::-1])\n",
        "print(a2[::-1, ::-1])\n",
        "print(a2[:, 0])"
      ],
      "execution_count": null,
      "outputs": [
        {
          "output_type": "stream",
          "name": "stdout",
          "text": [
            "[[1 2 3]\n",
            " [4 5 6]\n",
            " [7 8 9]]\n",
            "[4 5 6]\n",
            "[[2]]\n",
            "[4]\n",
            "[[6 5 4]\n",
            " [9 8 7]]\n",
            "[[9 8 7]\n",
            " [6 5 4]\n",
            " [3 2 1]]\n",
            "[1 4 7]\n"
          ]
        }
      ]
    },
    {
      "cell_type": "markdown",
      "metadata": {
        "id": "LD52bXAsBgbH"
      },
      "source": [
        "### 불리언 인덱싱(Boolean Indexing)\n",
        "\n",
        "* 배열 각 요소의 선택 여부를 불리언(True or False)로 지정\n",
        "* True 값인 인덱스의 값만 조회"
      ]
    },
    {
      "cell_type": "code",
      "metadata": {
        "id": "pOvNsH2oBgz-",
        "colab": {
          "base_uri": "https://localhost:8080/"
        },
        "outputId": "fbea8310-99e1-4f47-d2bf-163a14cca340"
      },
      "source": [
        "print(type(a1))\n",
        "bi = [False, True, True, False, True]\n",
        "print(a1[bi])"
      ],
      "execution_count": null,
      "outputs": [
        {
          "output_type": "stream",
          "name": "stdout",
          "text": [
            "<class 'numpy.ndarray'>\n",
            "[2 3 5]\n"
          ]
        }
      ]
    },
    {
      "cell_type": "code",
      "metadata": {
        "id": "EFfquM2kWHAU",
        "colab": {
          "base_uri": "https://localhost:8080/"
        },
        "outputId": "e847a054-ed42-427c-8be4-cda67fffffe6"
      },
      "source": [
        "print(a2)\n",
        "print(type(a2))\n",
        "\n",
        "bi = np.random.randint(0, 2, (3, 3), dtype=bool)\n",
        "print(bi)\n",
        "print(a2[bi])"
      ],
      "execution_count": null,
      "outputs": [
        {
          "output_type": "stream",
          "name": "stdout",
          "text": [
            "[[1 2 3]\n",
            " [4 5 6]\n",
            " [7 8 9]]\n",
            "<class 'numpy.ndarray'>\n",
            "[[False False  True]\n",
            " [False False  True]\n",
            " [ True False False]]\n",
            "[3 6 7]\n"
          ]
        }
      ]
    },
    {
      "cell_type": "markdown",
      "metadata": {
        "id": "R5hes-hdBujH"
      },
      "source": [
        "### 팬시 인덱싱(Fancy Indedxing)"
      ]
    },
    {
      "cell_type": "code",
      "metadata": {
        "id": "z-Luw5fzBx30",
        "colab": {
          "base_uri": "https://localhost:8080/"
        },
        "outputId": "3919b1aa-b287-458a-858a-cfdfc3c0163c"
      },
      "source": [
        "print(a1)\n",
        "print([a1[0], a1[2]])\n",
        "ind = [0 ,2]\n",
        "print(a1[ind])\n",
        "ind = np.array([ [0, 1],\n",
        "                 [2, 0] ])\n",
        "print(a1[ind])"
      ],
      "execution_count": null,
      "outputs": [
        {
          "output_type": "stream",
          "name": "stdout",
          "text": [
            "[1 2 3 4 5]\n",
            "[1, 3]\n",
            "[1 3]\n",
            "[[1 2]\n",
            " [3 1]]\n"
          ]
        }
      ]
    },
    {
      "cell_type": "code",
      "metadata": {
        "id": "p_Dd0oiJahgj",
        "colab": {
          "base_uri": "https://localhost:8080/"
        },
        "outputId": "14664b1b-d936-4831-919b-ae5fdefe6a99"
      },
      "source": [
        "print(a2)\n",
        "row = np.array([0, 2])\n",
        "col = np.array([1, 2])\n",
        "print(a2[row, col])\n",
        "print(a2[row, :])\n",
        "print(a2[:, col])\n",
        "print(a2[row, 1])\n",
        "print(a2[2, col])\n",
        "print(a2[row, 1:])\n",
        "print(a2[1:, col])"
      ],
      "execution_count": null,
      "outputs": [
        {
          "output_type": "stream",
          "name": "stdout",
          "text": [
            "[[1 2 3]\n",
            " [4 5 6]\n",
            " [7 8 9]]\n",
            "[2 9]\n",
            "[[1 2 3]\n",
            " [7 8 9]]\n",
            "[[2 3]\n",
            " [5 6]\n",
            " [8 9]]\n",
            "[2 8]\n",
            "[8 9]\n",
            "[[2 3]\n",
            " [8 9]]\n",
            "[[5 6]\n",
            " [8 9]]\n"
          ]
        }
      ]
    },
    {
      "cell_type": "markdown",
      "metadata": {
        "id": "F71_PQF1GvTs"
      },
      "source": [
        "\n",
        "\n",
        "---\n",
        "\n"
      ]
    },
    {
      "cell_type": "markdown",
      "metadata": {
        "id": "zDI5yQ58O-IX"
      },
      "source": [
        "## 배열 값 삽입/수정/삭제/복사"
      ]
    },
    {
      "cell_type": "markdown",
      "metadata": {
        "id": "zajd1qpVOQYy"
      },
      "source": [
        "### 배열 값 삽입\n",
        "\n",
        "* `insert()`: 배열의 특정 위치에 값 삽입\n",
        "* axis를 지정하지 않으면 1차원 배열로 변환\n",
        "* 추가할 방향을 axis로 지정\n",
        "* 원본 배열 변경없이 새로운 배열 반환"
      ]
    },
    {
      "cell_type": "code",
      "metadata": {
        "id": "sedRT54rP395",
        "colab": {
          "base_uri": "https://localhost:8080/"
        },
        "outputId": "9f2e75ce-8ddf-4867-9805-99d334d28f6b"
      },
      "source": [
        "print(a1)\n",
        "b1 = np.insert(a1, 0, 10)\n",
        "print(b1)\n",
        "c1 = np.insert(a1, 2, 10)\n",
        "print(c1)"
      ],
      "execution_count": null,
      "outputs": [
        {
          "output_type": "stream",
          "name": "stdout",
          "text": [
            "[1 2 3 4 5]\n",
            "[10  1  2  3  4  5]\n",
            "[ 1  2 10  3  4  5]\n"
          ]
        }
      ]
    },
    {
      "cell_type": "code",
      "metadata": {
        "id": "zNmu1E4iQ6h-",
        "colab": {
          "base_uri": "https://localhost:8080/"
        },
        "outputId": "7a8bb02a-8a41-48be-df77-344ac4862cbc"
      },
      "source": [
        "print(a2)\n",
        "b2 = np.insert(a2, 1, 10, axis = 0)\n",
        "print(b2)\n",
        "c2 = np.insert(a2, 2, 10, axis=1)\n",
        "print(c2)"
      ],
      "execution_count": null,
      "outputs": [
        {
          "output_type": "stream",
          "name": "stdout",
          "text": [
            "[[ 4 10 10]\n",
            " [ 4  4  6]\n",
            " [ 7  8  4]]\n",
            "[[ 4 10 10]\n",
            " [10 10 10]\n",
            " [ 4  4  6]\n",
            " [ 7  8  4]]\n",
            "[[ 4 10 10 10]\n",
            " [ 4  4 10  6]\n",
            " [ 7  8 10  4]]\n"
          ]
        }
      ]
    },
    {
      "cell_type": "markdown",
      "metadata": {
        "id": "OlEzG4ffNjyL"
      },
      "source": [
        "### 배열 값 수정\n",
        "\n",
        "* 배열의 인덱싱으로 접근하여 값 수정"
      ]
    },
    {
      "cell_type": "code",
      "metadata": {
        "id": "ec43i1KWNjeN",
        "colab": {
          "base_uri": "https://localhost:8080/"
        },
        "outputId": "8ecafdbe-945c-4745-cc51-470dbc825b98"
      },
      "source": [
        "print(a1)\n",
        "a1[0] = 9\n",
        "a1[1] = 8\n",
        "a1[2] = 7\n",
        "print(a1)\n",
        "a1[:2] = 9\n",
        "print(a1)\n",
        "i = np.array([1, 3, 4]) #fancy indexing = 위치를 리스트 형태로 저장하여 그 위치의 값을 지정\n",
        "a1[i] = 0\n",
        "print(a1)\n",
        "a1[i] += 4\n",
        "print(a1)"
      ],
      "execution_count": null,
      "outputs": [
        {
          "output_type": "stream",
          "name": "stdout",
          "text": [
            "[9 0 7 0 0]\n",
            "[9 8 7 0 0]\n",
            "[9 9 7 0 0]\n",
            "[9 0 7 0 0]\n",
            "[9 4 7 4 4]\n"
          ]
        }
      ]
    },
    {
      "cell_type": "code",
      "metadata": {
        "id": "IApNNx3NOMQh",
        "colab": {
          "base_uri": "https://localhost:8080/"
        },
        "outputId": "11921a72-3b45-4428-83a5-286c855e69f6"
      },
      "source": [
        "print(a2)\n",
        "a2[0, 0] = 3\n",
        "a2[1, 1] = 3\n",
        "a2[2, 2] = 3\n",
        "print(a2)\n",
        "b2 = np.eye(3, dtype = bool)\n",
        "print(b2)\n",
        "a2[b2] = 4 # boolean indexing\n",
        "print(a2)\n",
        "a2[:, 0] = 10\n",
        "print(a2)\n",
        "row = np.array([0, 1])\n",
        "col = np.array([1, 2])\n",
        "a2[row, col] = 0\n",
        "print(a2)"
      ],
      "execution_count": null,
      "outputs": [
        {
          "output_type": "stream",
          "name": "stdout",
          "text": [
            "[[10  0  3]\n",
            " [10  4  0]\n",
            " [10  8  4]]\n",
            "[[ 3  0  3]\n",
            " [10  3  0]\n",
            " [10  8  3]]\n",
            "[[ True False False]\n",
            " [False  True False]\n",
            " [False False  True]]\n",
            "[[ 4  0  3]\n",
            " [10  4  0]\n",
            " [10  8  4]]\n",
            "[[10  0  3]\n",
            " [10  4  0]\n",
            " [10  8  4]]\n",
            "[[10  0  3]\n",
            " [10  4  0]\n",
            " [10  8  4]]\n"
          ]
        }
      ]
    },
    {
      "cell_type": "markdown",
      "metadata": {
        "id": "emV7DgrITPcn"
      },
      "source": [
        "### 배열 값 삭제\n",
        "\n",
        "* `delete()`: 배열의 특정 위치에 값 삭제\n",
        "* axis를 지정하지 않으면 1차원 배열로 변환\n",
        "* 삭제할 방향을 axis로 지정\n",
        "* 원본 배열 변경없이 새로운 배열 반환"
      ]
    },
    {
      "cell_type": "code",
      "metadata": {
        "id": "I3k_Yx8lTRJ2",
        "colab": {
          "base_uri": "https://localhost:8080/"
        },
        "outputId": "5e5c2cbf-cc34-41d7-a7a8-4c96f5b119c5"
      },
      "source": [
        "print(a1)\n",
        "b1 = np.delete(a1, 1)\n",
        "print(b1)"
      ],
      "execution_count": null,
      "outputs": [
        {
          "output_type": "stream",
          "name": "stdout",
          "text": [
            "[9 4 7 4 4]\n",
            "[9 7 4 4]\n"
          ]
        }
      ]
    },
    {
      "cell_type": "code",
      "metadata": {
        "id": "tRTwMIfJTq_y",
        "colab": {
          "base_uri": "https://localhost:8080/"
        },
        "outputId": "7eb96e94-0710-4e48-b41c-f1bb2408d52f"
      },
      "source": [
        "print(a2)\n",
        "b2 = np.delete(a2, 1, axis = 0)\n",
        "print(b2)\n",
        "c2 = np.delete(a2, 1, axis = 1)\n",
        "print(c2)"
      ],
      "execution_count": null,
      "outputs": [
        {
          "output_type": "stream",
          "name": "stdout",
          "text": [
            "[[10  0  3]\n",
            " [10  4  0]\n",
            " [10  8  4]]\n",
            "[[10  0  3]\n",
            " [10  8  4]]\n",
            "[[10  3]\n",
            " [10  0]\n",
            " [10  4]]\n"
          ]
        }
      ]
    },
    {
      "cell_type": "markdown",
      "metadata": {
        "id": "UydkYxV8Z6Fx"
      },
      "source": [
        "### 배열 복사\n",
        "\n",
        "* 리스트 자료형과 달리 배열의 슬라이스는 복사본이 아님"
      ]
    },
    {
      "cell_type": "code",
      "metadata": {
        "id": "n2_0L8KWZ7wH",
        "colab": {
          "base_uri": "https://localhost:8080/"
        },
        "outputId": "493c04a7-cd8e-4c17-913d-53af735d3637"
      },
      "source": [
        "print(a2)\n",
        "print(a2[:2, :2])\n",
        "a2_sub = a2[:2, :2]\n",
        "print(a2_sub)\n",
        "a2_sub[:, 1] = 0\n",
        "print(a2_sub)\n",
        "print(a2) # 원본에 영향을 줌 -> 메모리 위치가 같으니까 명시적으로 copy()를 사용해서 다른 메모리에 복사"
      ],
      "execution_count": null,
      "outputs": [
        {
          "output_type": "stream",
          "name": "stdout",
          "text": [
            "[[10  0  3]\n",
            " [10  0  0]\n",
            " [10  8  4]]\n",
            "[[10  0]\n",
            " [10  0]]\n",
            "[[10  0]\n",
            " [10  0]]\n",
            "[[10  0]\n",
            " [10  0]]\n",
            "[[10  0  3]\n",
            " [10  0  0]\n",
            " [10  8  4]]\n"
          ]
        }
      ]
    },
    {
      "cell_type": "markdown",
      "metadata": {
        "id": "UrQqOC1Eat5l"
      },
      "source": [
        "\n",
        "* `copy()`: 배열이나 하위 배열 내의 값을 명시적으로 복사"
      ]
    },
    {
      "cell_type": "code",
      "metadata": {
        "id": "hLBZ7Qn6bAKO",
        "colab": {
          "base_uri": "https://localhost:8080/"
        },
        "outputId": "c3a6668a-b402-41bd-bd3a-cf906485dbeb"
      },
      "source": [
        "print(a2)\n",
        "a2_sub_copy = a2[:2, :2].copy()\n",
        "print(a2_sub_copy)\n",
        "a2_sub_copy[:, 1] = 1\n",
        "print(a2_sub_copy)\n",
        "print(a2)"
      ],
      "execution_count": null,
      "outputs": [
        {
          "output_type": "stream",
          "name": "stdout",
          "text": [
            "[[10  0  3]\n",
            " [10  0  0]\n",
            " [10  8  4]]\n",
            "[[10  0]\n",
            " [10  0]]\n",
            "[[10  1]\n",
            " [10  1]]\n",
            "[[10  0  3]\n",
            " [10  0  0]\n",
            " [10  8  4]]\n"
          ]
        }
      ]
    },
    {
      "cell_type": "markdown",
      "metadata": {
        "id": "4HTc9FXOGtA7"
      },
      "source": [
        "\n",
        "\n",
        "---\n",
        "\n"
      ]
    },
    {
      "cell_type": "markdown",
      "metadata": {
        "id": "XVZY082__yV6"
      },
      "source": [
        "## 배열 변환"
      ]
    },
    {
      "cell_type": "markdown",
      "metadata": {
        "id": "Ec09aPeBO58M"
      },
      "source": [
        "### 배열 전치 및 축 변경"
      ]
    },
    {
      "cell_type": "code",
      "metadata": {
        "id": "anYByBpoWZmj",
        "colab": {
          "base_uri": "https://localhost:8080/"
        },
        "outputId": "2cea729e-cb7d-4d43-bba0-bdb54c91e274"
      },
      "source": [
        "print(a2)\n",
        "print(a2.T)"
      ],
      "execution_count": null,
      "outputs": [
        {
          "output_type": "stream",
          "name": "stdout",
          "text": [
            "[[10  0  3]\n",
            " [10  0  0]\n",
            " [10  8  4]]\n",
            "[[10 10 10]\n",
            " [ 0  0  8]\n",
            " [ 3  0  4]]\n"
          ]
        }
      ]
    },
    {
      "cell_type": "code",
      "metadata": {
        "id": "wg4XC6kiRnZo",
        "colab": {
          "base_uri": "https://localhost:8080/"
        },
        "outputId": "d4f132b4-e563-483d-c1a1-52514b015990"
      },
      "source": [
        "print(a3)\n",
        "print(a3.T)"
      ],
      "execution_count": null,
      "outputs": [
        {
          "output_type": "stream",
          "name": "stdout",
          "text": [
            "[[[1 2 3]\n",
            "  [4 5 6]\n",
            "  [7 8 9]]\n",
            "\n",
            " [[1 2 3]\n",
            "  [4 5 6]\n",
            "  [7 8 9]]\n",
            "\n",
            " [[1 2 3]\n",
            "  [4 5 6]\n",
            "  [7 8 9]]]\n",
            "[[[1 1 1]\n",
            "  [4 4 4]\n",
            "  [7 7 7]]\n",
            "\n",
            " [[2 2 2]\n",
            "  [5 5 5]\n",
            "  [8 8 8]]\n",
            "\n",
            " [[3 3 3]\n",
            "  [6 6 6]\n",
            "  [9 9 9]]]\n"
          ]
        }
      ]
    },
    {
      "cell_type": "code",
      "metadata": {
        "id": "6lPwXL8rRTfI",
        "colab": {
          "base_uri": "https://localhost:8080/"
        },
        "outputId": "dd600f24-3598-4ef2-ab96-11d73d99b706"
      },
      "source": [
        "print(a2)\n",
        "print(a2.swapaxes(1, 0))"
      ],
      "execution_count": null,
      "outputs": [
        {
          "output_type": "stream",
          "name": "stdout",
          "text": [
            "[[10  0  3]\n",
            " [10  0  0]\n",
            " [10  8  4]]\n",
            "[[10 10 10]\n",
            " [ 0  0  8]\n",
            " [ 3  0  4]]\n"
          ]
        }
      ]
    },
    {
      "cell_type": "code",
      "metadata": {
        "id": "oLbEHtijRewH",
        "colab": {
          "base_uri": "https://localhost:8080/"
        },
        "outputId": "55e76140-7721-489d-8598-c0fe8ecfa658"
      },
      "source": [
        "print(a3)\n",
        "print(a3.swapaxes(1, 0))\n",
        "print(a3.swapaxes(1, 2))"
      ],
      "execution_count": null,
      "outputs": [
        {
          "output_type": "stream",
          "name": "stdout",
          "text": [
            "[[[1 2 3]\n",
            "  [4 5 6]\n",
            "  [7 8 9]]\n",
            "\n",
            " [[1 2 3]\n",
            "  [4 5 6]\n",
            "  [7 8 9]]\n",
            "\n",
            " [[1 2 3]\n",
            "  [4 5 6]\n",
            "  [7 8 9]]]\n",
            "[[[1 2 3]\n",
            "  [1 2 3]\n",
            "  [1 2 3]]\n",
            "\n",
            " [[4 5 6]\n",
            "  [4 5 6]\n",
            "  [4 5 6]]\n",
            "\n",
            " [[7 8 9]\n",
            "  [7 8 9]\n",
            "  [7 8 9]]]\n",
            "[[[1 4 7]\n",
            "  [2 5 8]\n",
            "  [3 6 9]]\n",
            "\n",
            " [[1 4 7]\n",
            "  [2 5 8]\n",
            "  [3 6 9]]\n",
            "\n",
            " [[1 4 7]\n",
            "  [2 5 8]\n",
            "  [3 6 9]]]\n"
          ]
        }
      ]
    },
    {
      "cell_type": "markdown",
      "metadata": {
        "id": "M7xN8WdOdb_S"
      },
      "source": [
        "### 배열 재구조화\n"
      ]
    },
    {
      "cell_type": "markdown",
      "metadata": {
        "id": "JwZJMpXGfY0V"
      },
      "source": [
        "* `reshape()`: 배열의 형상을 변경"
      ]
    },
    {
      "cell_type": "code",
      "metadata": {
        "id": "SlGQ17VQdd8i",
        "colab": {
          "base_uri": "https://localhost:8080/"
        },
        "outputId": "db00d288-7d2b-4c17-f194-e61d37576fcf"
      },
      "source": [
        "n1 = np.arange(1, 10)\n",
        "print(n1)\n",
        "print(n1.reshape(3, 3))"
      ],
      "execution_count": null,
      "outputs": [
        {
          "output_type": "stream",
          "name": "stdout",
          "text": [
            "[1 2 3 4 5 6 7 8 9]\n",
            "[[1 2 3]\n",
            " [4 5 6]\n",
            " [7 8 9]]\n"
          ]
        }
      ]
    },
    {
      "cell_type": "markdown",
      "metadata": {
        "id": "y_U1W-fQfuQY"
      },
      "source": [
        "* `newaxis()`: 새로운 축 추가"
      ]
    },
    {
      "cell_type": "code",
      "metadata": {
        "id": "COif_weCfkGo",
        "colab": {
          "base_uri": "https://localhost:8080/"
        },
        "outputId": "05ea96ff-76ca-4808-cac6-c4814b46f5fc"
      },
      "source": [
        "print(n1)\n",
        "print(n1[np.newaxis, :5])\n",
        "print(n1[:5, np.newaxis])"
      ],
      "execution_count": null,
      "outputs": [
        {
          "output_type": "stream",
          "name": "stdout",
          "text": [
            "[1 2 3 4 5 6 7 8 9]\n",
            "[[1 2 3 4 5]]\n",
            "[[1]\n",
            " [2]\n",
            " [3]\n",
            " [4]\n",
            " [5]]\n"
          ]
        }
      ]
    },
    {
      "cell_type": "markdown",
      "metadata": {
        "id": "FR82RSDggbcJ"
      },
      "source": [
        "### 배열 크기 변경"
      ]
    },
    {
      "cell_type": "markdown",
      "metadata": {
        "id": "D1LuDMVFl4tc"
      },
      "source": [
        "* 배열 모양만 변경"
      ]
    },
    {
      "cell_type": "code",
      "metadata": {
        "id": "7B6pHlfxgdSJ",
        "colab": {
          "base_uri": "https://localhost:8080/"
        },
        "outputId": "cbcbe0fe-ca48-44f1-853c-7cd49130cf29"
      },
      "source": [
        "n2 = np.random.randint(1, 10, (2, 5))\n",
        "print(n2)\n",
        "n2.resize((5, 2))\n",
        "print(n2)"
      ],
      "execution_count": null,
      "outputs": [
        {
          "output_type": "stream",
          "name": "stdout",
          "text": [
            "[[3 2 5 7 6]\n",
            " [6 4 1 3 8]]\n",
            "[[3 2]\n",
            " [5 7]\n",
            " [6 6]\n",
            " [4 1]\n",
            " [3 8]]\n"
          ]
        }
      ]
    },
    {
      "cell_type": "markdown",
      "metadata": {
        "id": "s0adm-h9l6sv"
      },
      "source": [
        "* 배열 크기 증가\n",
        "* 남은 공간은 0으로 채워짐"
      ]
    },
    {
      "cell_type": "code",
      "metadata": {
        "id": "IrX0UcjrlWRV",
        "colab": {
          "base_uri": "https://localhost:8080/"
        },
        "outputId": "11c322ae-15c2-4f53-bc34-df0fa0f35030"
      },
      "source": [
        "n2.resize((5, 5), refcheck=False)\n",
        "print(n2)"
      ],
      "execution_count": null,
      "outputs": [
        {
          "output_type": "stream",
          "name": "stdout",
          "text": [
            "[[3 2 5 7 6]\n",
            " [6 4 1 3 8]\n",
            " [0 0 0 0 0]\n",
            " [0 0 0 0 0]\n",
            " [0 0 0 0 0]]\n"
          ]
        }
      ]
    },
    {
      "cell_type": "markdown",
      "metadata": {
        "id": "78hPDEzfl9JB"
      },
      "source": [
        "* 배열 크기 감소\n",
        "* 포함되지 않은 값은 삭제됨"
      ]
    },
    {
      "cell_type": "code",
      "metadata": {
        "id": "fJWrwhc6lmjW",
        "colab": {
          "base_uri": "https://localhost:8080/"
        },
        "outputId": "ca95a4a0-4e82-4548-f111-8dca8cad9183"
      },
      "source": [
        "n2.resize((3, 3), refcheck=False)\n",
        "print(n2)"
      ],
      "execution_count": null,
      "outputs": [
        {
          "output_type": "stream",
          "name": "stdout",
          "text": [
            "[[3 2 5]\n",
            " [7 6 6]\n",
            " [4 1 3]]\n"
          ]
        }
      ]
    },
    {
      "cell_type": "markdown",
      "metadata": {
        "id": "r9z2gD_pHyx9"
      },
      "source": [
        "### 배열 추가\n",
        "\n",
        "* `append()`: 배열의 끝에 값 추가"
      ]
    },
    {
      "cell_type": "code",
      "metadata": {
        "id": "fH4lpQKNH5s1",
        "colab": {
          "base_uri": "https://localhost:8080/"
        },
        "outputId": "a404d0a1-2624-43bf-cc2b-b967da4df979"
      },
      "source": [
        "a2 = np.arange(1, 10).reshape(3, 3)\n",
        "print(a2)\n",
        "b2 = np.arange(10, 19).reshape(3, 3)\n",
        "print(b2)"
      ],
      "execution_count": null,
      "outputs": [
        {
          "output_type": "stream",
          "name": "stdout",
          "text": [
            "[[1 2 3]\n",
            " [4 5 6]\n",
            " [7 8 9]]\n",
            "[[10 11 12]\n",
            " [13 14 15]\n",
            " [16 17 18]]\n"
          ]
        }
      ]
    },
    {
      "cell_type": "markdown",
      "metadata": {
        "id": "n8SMl5VVIquk"
      },
      "source": [
        "* axis 지정이 없으면 1차원 배열 형태로 변형되어 결합"
      ]
    },
    {
      "cell_type": "code",
      "metadata": {
        "id": "LRltk3yFIVsV",
        "colab": {
          "base_uri": "https://localhost:8080/"
        },
        "outputId": "58aa77c6-a084-4ce2-8b59-72d9b88de89c"
      },
      "source": [
        "c2 = np.append(a2, b2, axis=1)\n",
        "print(c2)"
      ],
      "execution_count": null,
      "outputs": [
        {
          "output_type": "stream",
          "name": "stdout",
          "text": [
            "[[ 1  2  3 10 11 12]\n",
            " [ 4  5  6 13 14 15]\n",
            " [ 7  8  9 16 17 18]]\n"
          ]
        }
      ]
    },
    {
      "cell_type": "markdown",
      "metadata": {
        "id": "sVW2UFVZJfpR"
      },
      "source": [
        "* axis를 0으로 지정\n",
        "* shape[0]을 제외한 나머지 shape은 같아야 함"
      ]
    },
    {
      "cell_type": "code",
      "metadata": {
        "id": "nwJ4xLOeIbMg",
        "colab": {
          "base_uri": "https://localhost:8080/"
        },
        "outputId": "407b71c0-76d4-46f4-8934-10eeaa8e078f"
      },
      "source": [
        "c2 = np.append(a2, b2, axis=0)\n",
        "print(c2)"
      ],
      "execution_count": null,
      "outputs": [
        {
          "output_type": "stream",
          "name": "stdout",
          "text": [
            "[[ 1  2  3]\n",
            " [ 4  5  6]\n",
            " [ 7  8  9]\n",
            " [10 11 12]\n",
            " [13 14 15]\n",
            " [16 17 18]]\n"
          ]
        }
      ]
    },
    {
      "cell_type": "markdown",
      "metadata": {
        "id": "4YXxzygaJmj-"
      },
      "source": [
        "* axis를 1로 지정\n",
        "* shape[1]을 제외한 나머지 shape은 같아야 함"
      ]
    },
    {
      "cell_type": "code",
      "metadata": {
        "id": "JYE4_5gAJmYe",
        "colab": {
          "base_uri": "https://localhost:8080/"
        },
        "outputId": "17fb7cc2-577d-407b-9aed-6037d8c091e3"
      },
      "source": [
        "c2 = np.append(a2, b2, axis=1)\n",
        "print(c2)"
      ],
      "execution_count": null,
      "outputs": [
        {
          "output_type": "stream",
          "name": "stdout",
          "text": [
            "[[ 1  2  3 10 11 12]\n",
            " [ 4  5  6 13 14 15]\n",
            " [ 7  8  9 16 17 18]]\n"
          ]
        }
      ]
    },
    {
      "cell_type": "markdown",
      "metadata": {
        "id": "9sTza3b2hoe4"
      },
      "source": [
        "### 배열 연결"
      ]
    },
    {
      "cell_type": "markdown",
      "metadata": {
        "id": "TRun2NPYj8Ct"
      },
      "source": [
        "* `concatenate()`: 튜플이나 배열의 리스트를 인수로 사용해 배열 연결"
      ]
    },
    {
      "cell_type": "code",
      "metadata": {
        "id": "lmEqdPifhrB_",
        "colab": {
          "base_uri": "https://localhost:8080/"
        },
        "outputId": "c0be2d93-9c1a-48f3-b990-c05d5a74910b"
      },
      "source": [
        "a1 = np.array([1, 3, 5])\n",
        "b1 = np.array([2, 4, 6])\n",
        "np.concatenate([a1, b1])"
      ],
      "execution_count": null,
      "outputs": [
        {
          "output_type": "execute_result",
          "data": {
            "text/plain": [
              "array([1, 3, 5, 2, 4, 6])"
            ]
          },
          "metadata": {},
          "execution_count": 2
        }
      ]
    },
    {
      "cell_type": "code",
      "metadata": {
        "id": "IkoTNIt2k0tp",
        "colab": {
          "base_uri": "https://localhost:8080/"
        },
        "outputId": "88c97fe6-5498-4372-d2bf-f6bd0d64f6aa"
      },
      "source": [
        "c1 = np.array([7,8,9])\n",
        "np.concatenate([a1, b1, c1])"
      ],
      "execution_count": null,
      "outputs": [
        {
          "output_type": "execute_result",
          "data": {
            "text/plain": [
              "array([1, 3, 5, 2, 4, 6, 7, 8, 9])"
            ]
          },
          "metadata": {},
          "execution_count": 3
        }
      ]
    },
    {
      "cell_type": "code",
      "metadata": {
        "id": "vX0SCYX3lEs2",
        "colab": {
          "base_uri": "https://localhost:8080/"
        },
        "outputId": "e9fd646a-f261-4329-f0af-5a77fda35071"
      },
      "source": [
        "a2 = np.array([[1,2,3],[4,5,6]])\n",
        "np.concatenate([a2,a2], axis=0)"
      ],
      "execution_count": null,
      "outputs": [
        {
          "output_type": "execute_result",
          "data": {
            "text/plain": [
              "array([[1, 2, 3],\n",
              "       [4, 5, 6],\n",
              "       [1, 2, 3],\n",
              "       [4, 5, 6]])"
            ]
          },
          "metadata": {},
          "execution_count": 4
        }
      ]
    },
    {
      "cell_type": "code",
      "metadata": {
        "id": "Rv6xGva7lxHP",
        "colab": {
          "base_uri": "https://localhost:8080/"
        },
        "outputId": "fd06efd1-2712-47b9-97de-e4edf9cc7d4f"
      },
      "source": [
        "a2 = np.array([[1,2,3],[4,5,6]])\n",
        "np.concatenate([a2,a2], axis=1)"
      ],
      "execution_count": null,
      "outputs": [
        {
          "output_type": "execute_result",
          "data": {
            "text/plain": [
              "array([[1, 2, 3, 1, 2, 3],\n",
              "       [4, 5, 6, 4, 5, 6]])"
            ]
          },
          "metadata": {},
          "execution_count": 5
        }
      ]
    },
    {
      "cell_type": "markdown",
      "metadata": {
        "id": "MbiBbx4nl2KD"
      },
      "source": [
        "* `vstack()`: 수직 스택(vertical stack), 1차원으로 연결"
      ]
    },
    {
      "cell_type": "code",
      "metadata": {
        "id": "HkHJwdBMl_qi",
        "colab": {
          "base_uri": "https://localhost:8080/"
        },
        "outputId": "47118fcf-6b7d-4ea5-cc09-a4bc38da18b4"
      },
      "source": [
        "np.vstack([a2, a2])"
      ],
      "execution_count": null,
      "outputs": [
        {
          "output_type": "execute_result",
          "data": {
            "text/plain": [
              "array([[1, 2, 3],\n",
              "       [4, 5, 6],\n",
              "       [1, 2, 3],\n",
              "       [4, 5, 6]])"
            ]
          },
          "metadata": {},
          "execution_count": 93
        }
      ]
    },
    {
      "cell_type": "markdown",
      "metadata": {
        "id": "-hTlAnWxmHA_"
      },
      "source": [
        "* `hstack()`: 수평 스택(horizontal stack), 2차원으로 연결"
      ]
    },
    {
      "cell_type": "code",
      "metadata": {
        "id": "-HsGlAytmNEz",
        "colab": {
          "base_uri": "https://localhost:8080/"
        },
        "outputId": "0c6a69fc-7609-4dc4-cee1-af7f60cb0dd1"
      },
      "source": [
        "np.hstack([a2, a2])"
      ],
      "execution_count": null,
      "outputs": [
        {
          "output_type": "execute_result",
          "data": {
            "text/plain": [
              "array([[1, 2, 3, 1, 2, 3],\n",
              "       [4, 5, 6, 4, 5, 6]])"
            ]
          },
          "metadata": {},
          "execution_count": 94
        }
      ]
    },
    {
      "cell_type": "markdown",
      "metadata": {
        "id": "CshM6LURmUhV"
      },
      "source": [
        "* `dstack()`: 깊이 스택(depth stack), 3차원으로 연결"
      ]
    },
    {
      "cell_type": "code",
      "metadata": {
        "id": "TFBdRddpmU4m",
        "colab": {
          "base_uri": "https://localhost:8080/"
        },
        "outputId": "f2731f03-ed6c-4258-890f-853b7903a5dc"
      },
      "source": [
        "np.dstack([a2, a2])"
      ],
      "execution_count": null,
      "outputs": [
        {
          "output_type": "execute_result",
          "data": {
            "text/plain": [
              "array([[[1, 1],\n",
              "        [2, 2],\n",
              "        [3, 3]],\n",
              "\n",
              "       [[4, 4],\n",
              "        [5, 5],\n",
              "        [6, 6]]])"
            ]
          },
          "metadata": {},
          "execution_count": 96
        }
      ]
    },
    {
      "cell_type": "markdown",
      "metadata": {
        "id": "JUBtc4UnpaSz"
      },
      "source": [
        "* `stack()`: 새로운 차원으로 연결"
      ]
    },
    {
      "cell_type": "code",
      "metadata": {
        "id": "JzoujQ9_pHS5",
        "colab": {
          "base_uri": "https://localhost:8080/"
        },
        "outputId": "a39a408c-a537-4fe6-8cee-76fbaa4c32f2"
      },
      "source": [
        "np.stack([a2, a2])"
      ],
      "execution_count": null,
      "outputs": [
        {
          "output_type": "execute_result",
          "data": {
            "text/plain": [
              "array([[[1, 2, 3],\n",
              "        [4, 5, 6]],\n",
              "\n",
              "       [[1, 2, 3],\n",
              "        [4, 5, 6]]])"
            ]
          },
          "metadata": {},
          "execution_count": 99
        }
      ]
    },
    {
      "cell_type": "markdown",
      "metadata": {
        "id": "eYz74NYKo8iH"
      },
      "source": [
        "### 배열 분할"
      ]
    },
    {
      "cell_type": "markdown",
      "metadata": {
        "id": "wjt2zku5pBmF"
      },
      "source": [
        "* `split()`: 배열 분할"
      ]
    },
    {
      "cell_type": "code",
      "metadata": {
        "id": "H_2e71heo-Eq",
        "colab": {
          "base_uri": "https://localhost:8080/"
        },
        "outputId": "4904257a-a5e7-4374-da13-af44caa6b0a7"
      },
      "source": [
        "a1 = np.arange(0, 10)\n",
        "print(a1)\n",
        "b1, c1 = np.split(a1, [5])\n",
        "print(b1, c1)\n",
        "b1, c1 , d1, e1, f1 = np.split(a1, [2, 4, 6, 8])\n",
        "print(b1, c1, d1, e1, f1)"
      ],
      "execution_count": null,
      "outputs": [
        {
          "output_type": "stream",
          "name": "stdout",
          "text": [
            "[0 1 2 3 4 5 6 7 8 9]\n",
            "[0 1 2 3 4] [5 6 7 8 9]\n",
            "[0 1] [2 3] [4 5] [6 7] [8 9]\n"
          ]
        }
      ]
    },
    {
      "cell_type": "markdown",
      "metadata": {
        "id": "IvvdCQcKsCLn"
      },
      "source": [
        "* `vsplit()`: 수직 분할, 1차원으로 분할"
      ]
    },
    {
      "cell_type": "code",
      "metadata": {
        "id": "GdMYlsiLsCoe",
        "colab": {
          "base_uri": "https://localhost:8080/"
        },
        "outputId": "185df3d4-8b46-4c1a-fcc3-f1c2f160dbdd"
      },
      "source": [
        "a2 = np.arange(1, 10).reshape(3, 3)\n",
        "print(a2)\n",
        "b2, c2 = np.vsplit(a2, [2])\n",
        "print(b2 ,c2)"
      ],
      "execution_count": null,
      "outputs": [
        {
          "output_type": "stream",
          "name": "stdout",
          "text": [
            "[[1 2 3]\n",
            " [4 5 6]\n",
            " [7 8 9]]\n",
            "[[1 2 3]\n",
            " [4 5 6]] [[7 8 9]]\n"
          ]
        }
      ]
    },
    {
      "cell_type": "markdown",
      "metadata": {
        "id": "1aC0a034rSXi"
      },
      "source": [
        "* `hsplit()`: 수평 분할, 2차원으로 분할"
      ]
    },
    {
      "cell_type": "code",
      "metadata": {
        "id": "ShMnE_bnrSBJ",
        "colab": {
          "base_uri": "https://localhost:8080/"
        },
        "outputId": "6bac5dca-ea29-4f49-b173-8480b0635333"
      },
      "source": [
        "b2, c2 = np.hsplit(a2, [2])\n",
        "print(b2)\n",
        "print(c2)"
      ],
      "execution_count": null,
      "outputs": [
        {
          "output_type": "stream",
          "name": "stdout",
          "text": [
            "[[1 2]\n",
            " [4 5]\n",
            " [7 8]]\n",
            "[[3]\n",
            " [6]\n",
            " [9]]\n"
          ]
        }
      ]
    },
    {
      "cell_type": "markdown",
      "metadata": {
        "id": "Pz3BDD8qsQER"
      },
      "source": [
        "* `dsplit()`: 깊이 분할, 3차원으로 분할"
      ]
    },
    {
      "cell_type": "code",
      "metadata": {
        "id": "DqHFGd43sQYj",
        "colab": {
          "base_uri": "https://localhost:8080/"
        },
        "outputId": "43bff6e1-614a-47af-d87f-a2a5048f0e2e"
      },
      "source": [
        "a3 = np.arange(1,28).reshape(3, 3, 3)\n",
        "print(a3)\n",
        "b3, c3 = np.dsplit(a3, [2])\n",
        "print(b3)\n",
        "print(c3)"
      ],
      "execution_count": null,
      "outputs": [
        {
          "output_type": "stream",
          "name": "stdout",
          "text": [
            "[[[ 1  2  3]\n",
            "  [ 4  5  6]\n",
            "  [ 7  8  9]]\n",
            "\n",
            " [[10 11 12]\n",
            "  [13 14 15]\n",
            "  [16 17 18]]\n",
            "\n",
            " [[19 20 21]\n",
            "  [22 23 24]\n",
            "  [25 26 27]]]\n",
            "[[[ 1  2]\n",
            "  [ 4  5]\n",
            "  [ 7  8]]\n",
            "\n",
            " [[10 11]\n",
            "  [13 14]\n",
            "  [16 17]]\n",
            "\n",
            " [[19 20]\n",
            "  [22 23]\n",
            "  [25 26]]]\n",
            "[[[ 3]\n",
            "  [ 6]\n",
            "  [ 9]]\n",
            "\n",
            " [[12]\n",
            "  [15]\n",
            "  [18]]\n",
            "\n",
            " [[21]\n",
            "  [24]\n",
            "  [27]]]\n"
          ]
        }
      ]
    },
    {
      "cell_type": "markdown",
      "metadata": {
        "id": "rK-zrDZuGoVd"
      },
      "source": [
        "\n",
        "\n",
        "---\n",
        "\n"
      ]
    },
    {
      "cell_type": "markdown",
      "metadata": {
        "id": "Vc-iSWewJ3C1"
      },
      "source": [
        "## 배열 연산\n",
        "\n",
        "* NumPy의 배열 연산은 벡터화(vectorized) 연산을 사용\n",
        "* 일반적으로 NumPy의 범용 함수(universal functions)를 통해 구현\n",
        "* 배열 요소에 대한 반복적인 계산을 효율적으로 수행"
      ]
    },
    {
      "cell_type": "markdown",
      "metadata": {
        "id": "Pg2er1A2w3cz"
      },
      "source": [
        "### 브로드캐스팅(Broadcasting)"
      ]
    },
    {
      "cell_type": "code",
      "metadata": {
        "id": "IGU-HRgr20nj",
        "colab": {
          "base_uri": "https://localhost:8080/"
        },
        "outputId": "26af1d4b-a776-48a2-ff69-0d6ce7102071"
      },
      "source": [
        "a1 = np.array([1, 2, 3])\n",
        "print(a1)\n",
        "print(a1 + 5)\n",
        "\n",
        "a2 = np.arange(1, 10).reshape(3, 3)\n",
        "print(a2)\n",
        "print(a1 + a2)\n",
        "\n",
        "b2 = np.array([1, 2, 3]).reshape(3, 1)\n",
        "print(b2)\n",
        "print(a1 + b2)"
      ],
      "execution_count": null,
      "outputs": [
        {
          "output_type": "stream",
          "name": "stdout",
          "text": [
            "[1 2 3]\n",
            "[6 7 8]\n",
            "[[1 2 3]\n",
            " [4 5 6]\n",
            " [7 8 9]]\n",
            "[[ 2  4  6]\n",
            " [ 5  7  9]\n",
            " [ 8 10 12]]\n",
            "[[1]\n",
            " [2]\n",
            " [3]]\n",
            "[[2 3 4]\n",
            " [3 4 5]\n",
            " [4 5 6]]\n"
          ]
        }
      ]
    },
    {
      "cell_type": "code",
      "metadata": {
        "id": "IAzsmIAn1HNt"
      },
      "source": [],
      "execution_count": null,
      "outputs": []
    },
    {
      "cell_type": "markdown",
      "metadata": {
        "id": "NZzLHHLmwl_b"
      },
      "source": [
        "### 산술 연산(Arithmetic Operators)"
      ]
    },
    {
      "cell_type": "code",
      "metadata": {
        "id": "jHrIjHGEi05k",
        "colab": {
          "base_uri": "https://localhost:8080/"
        },
        "outputId": "b2d579cb-23fc-4082-b7cd-0a96cfc62c55"
      },
      "source": [
        "a1 = np.arange(1, 10)\n",
        "print(a1)\n",
        "print(a1 + 1)\n",
        "print(np.add(a1, 10))\n",
        "print(a1 - 2)\n",
        "print(np.subtract(a1, 10))\n",
        "print(-a1)\n",
        "print(np.negative(a1))\n",
        "print(a1 * 2)\n",
        "print(np.multiply(a1, 2))\n",
        "print(a1 / 2)\n",
        "print(np.divide(a1, 2))\n",
        "print(a1 // 2)\n",
        "print(np.floor_divide(a1, 2))\n",
        "print(a1 ** 2)\n",
        "print(np.power(a1, 2))\n",
        "print(a1 % 2)\n",
        "print(np.mod(a1, 2))\n",
        "# add, subtract, negative, multiply, divide, floor_divide, power, mod"
      ],
      "execution_count": null,
      "outputs": [
        {
          "output_type": "stream",
          "name": "stdout",
          "text": [
            "[1 2 3 4 5 6 7 8 9]\n",
            "[ 2  3  4  5  6  7  8  9 10]\n",
            "[11 12 13 14 15 16 17 18 19]\n",
            "[-1  0  1  2  3  4  5  6  7]\n",
            "[-9 -8 -7 -6 -5 -4 -3 -2 -1]\n",
            "[-1 -2 -3 -4 -5 -6 -7 -8 -9]\n",
            "[-1 -2 -3 -4 -5 -6 -7 -8 -9]\n",
            "[ 2  4  6  8 10 12 14 16 18]\n",
            "[ 2  4  6  8 10 12 14 16 18]\n",
            "[0.5 1.  1.5 2.  2.5 3.  3.5 4.  4.5]\n",
            "[0.5 1.  1.5 2.  2.5 3.  3.5 4.  4.5]\n",
            "[0 1 1 2 2 3 3 4 4]\n",
            "[0 1 1 2 2 3 3 4 4]\n",
            "[ 1  4  9 16 25 36 49 64 81]\n",
            "[ 1  4  9 16 25 36 49 64 81]\n",
            "[1 0 1 0 1 0 1 0 1]\n",
            "[1 0 1 0 1 0 1 0 1]\n"
          ]
        }
      ]
    },
    {
      "cell_type": "code",
      "metadata": {
        "id": "sMUYzXk3psgC",
        "colab": {
          "base_uri": "https://localhost:8080/"
        },
        "outputId": "c97deb44-4953-4ac2-a9fe-d029e39ddb5c"
      },
      "source": [
        "a1 = np.arange(1, 10)\n",
        "print(a1)\n",
        "b1 = np.random.randint(1, 10, size=9)\n",
        "print(b1)\n",
        "print(a1 + b1)\n",
        "print(a1 - b1)\n",
        "print(a1 * b1)\n",
        "print(a1 / b1)\n",
        "print(a1 // b1)\n",
        "print(a1 ** b1)\n",
        "print(a1 % b1)"
      ],
      "execution_count": null,
      "outputs": [
        {
          "output_type": "stream",
          "name": "stdout",
          "text": [
            "[1 2 3 4 5 6 7 8 9]\n",
            "[6 6 9 9 9 1 3 1 1]\n",
            "[ 7  8 12 13 14  7 10  9 10]\n",
            "[-5 -4 -6 -5 -4  5  4  7  8]\n",
            "[ 6 12 27 36 45  6 21  8  9]\n",
            "[0.16666667 0.33333333 0.33333333 0.44444444 0.55555556 6.\n",
            " 2.33333333 8.         9.        ]\n",
            "[0 0 0 0 0 6 2 8 9]\n",
            "[      1      64   19683  262144 1953125       6     343       8       9]\n",
            "[1 2 3 4 5 0 1 0 0]\n"
          ]
        }
      ]
    },
    {
      "cell_type": "code",
      "metadata": {
        "id": "ZkyjPmk5onPK",
        "colab": {
          "base_uri": "https://localhost:8080/"
        },
        "outputId": "f8ab358d-2e4d-4eea-d8a8-012a46c497f5"
      },
      "source": [
        "a2 = np.arange(1, 10).reshape(3,3)\n",
        "b2 = np.random.randint(1, 10, size=(3,3))\n",
        "print(a2)\n",
        "print(b2)\n",
        "print(a2 + b2)\n",
        "print(a2 - b2)\n",
        "print(a2 * b2)\n",
        "print(a2 / b2)\n",
        "print(a2 // b2)\n",
        "print(a2 ** b2)\n",
        "print(a2 % b2)"
      ],
      "execution_count": null,
      "outputs": [
        {
          "output_type": "stream",
          "name": "stdout",
          "text": [
            "[[1 2 3]\n",
            " [4 5 6]\n",
            " [7 8 9]]\n",
            "[[2 8 4]\n",
            " [2 3 6]\n",
            " [5 9 2]]\n",
            "[[ 3 10  7]\n",
            " [ 6  8 12]\n",
            " [12 17 11]]\n",
            "[[-1 -6 -1]\n",
            " [ 2  2  0]\n",
            " [ 2 -1  7]]\n",
            "[[ 2 16 12]\n",
            " [ 8 15 36]\n",
            " [35 72 18]]\n",
            "[[0.5        0.25       0.75      ]\n",
            " [2.         1.66666667 1.        ]\n",
            " [1.4        0.88888889 4.5       ]]\n",
            "[[0 0 0]\n",
            " [2 1 1]\n",
            " [1 0 4]]\n",
            "[[        1       256        81]\n",
            " [       16       125     46656]\n",
            " [    16807 134217728        81]]\n",
            "[[1 2 3]\n",
            " [0 2 0]\n",
            " [2 8 1]]\n"
          ]
        }
      ]
    },
    {
      "cell_type": "markdown",
      "metadata": {
        "id": "hxG_aECas3a9"
      },
      "source": [
        "#### 절대값 함수(Absolute Function)\n",
        "\n",
        "* `absolute()`, `abs()`: 내장된 절대값 함수"
      ]
    },
    {
      "cell_type": "code",
      "metadata": {
        "id": "YmX-0LvWs7qM",
        "colab": {
          "base_uri": "https://localhost:8080/"
        },
        "outputId": "2c993a4d-f375-47bc-b948-1fb32666cc33"
      },
      "source": [
        "a1 = np.random.randint(-10, 10, size=5)\n",
        "print(a1)\n",
        "print(np.absolute(a1))\n",
        "print(abs(a1))"
      ],
      "execution_count": null,
      "outputs": [
        {
          "output_type": "stream",
          "name": "stdout",
          "text": [
            "[-10   2  -7  -5  -6]\n",
            "[10  2  7  5  6]\n",
            "[10  2  7  5  6]\n"
          ]
        }
      ]
    },
    {
      "cell_type": "markdown",
      "metadata": {
        "id": "U5uE3sVtzRvA"
      },
      "source": [
        "#### 제곱/제곱근 함수\n",
        "\n",
        "* `square`, `sqrt`: 제곱, 제곱근 함수"
      ]
    },
    {
      "cell_type": "code",
      "metadata": {
        "id": "ggnIxDGzzTfX",
        "colab": {
          "base_uri": "https://localhost:8080/"
        },
        "outputId": "bc5f5c63-e8ed-4f63-f2d1-666a24d136d3"
      },
      "source": [
        "print(np.square(a1))\n",
        "print(np.sqrt(a1))"
      ],
      "execution_count": null,
      "outputs": [
        {
          "output_type": "stream",
          "name": "stdout",
          "text": [
            "[100   4  49  25  36]\n",
            "[       nan 1.41421356        nan        nan        nan]\n"
          ]
        },
        {
          "output_type": "stream",
          "name": "stderr",
          "text": [
            "<ipython-input-29-25116678b736>:2: RuntimeWarning: invalid value encountered in sqrt\n",
            "  print(np.sqrt(a1))\n"
          ]
        }
      ]
    },
    {
      "cell_type": "markdown",
      "metadata": {
        "id": "tWh1aQ50vRhB"
      },
      "source": [
        "#### 지수와 로그 함수 (Exponential and Log Function)"
      ]
    },
    {
      "cell_type": "code",
      "metadata": {
        "id": "Dygt3AyHvTZz",
        "colab": {
          "base_uri": "https://localhost:8080/"
        },
        "outputId": "cc20c8e2-7817-45ab-a0aa-dac5e22ca7a9"
      },
      "source": [
        "a1 = np.random.randint(1, 10, size=5)\n",
        "print(a1)\n",
        "print(np.exp(a1))\n",
        "print(np.exp2(a1))\n",
        "print(np.power(a1, 2))"
      ],
      "execution_count": null,
      "outputs": [
        {
          "output_type": "stream",
          "name": "stdout",
          "text": [
            "[1 2 5 2 9]\n",
            "[2.71828183e+00 7.38905610e+00 1.48413159e+02 7.38905610e+00\n",
            " 8.10308393e+03]\n",
            "[  2.   4.  32.   4. 512.]\n",
            "[ 1  4 25  4 81]\n"
          ]
        }
      ]
    },
    {
      "cell_type": "code",
      "metadata": {
        "id": "YB0BzwxDvnkT",
        "colab": {
          "base_uri": "https://localhost:8080/"
        },
        "outputId": "26bbb16f-61c4-411a-fc4f-eb1f7617d4e2"
      },
      "source": [
        "print(np.log(a1))\n",
        "print(np.log2(a1))\n",
        "print(np.log10(a1))"
      ],
      "execution_count": null,
      "outputs": [
        {
          "output_type": "stream",
          "name": "stdout",
          "text": [
            "[0.         0.69314718 1.60943791 0.69314718 2.19722458]\n",
            "[0.         1.         2.32192809 1.         3.169925  ]\n",
            "[0.         0.30103    0.69897    0.30103    0.95424251]\n"
          ]
        }
      ]
    },
    {
      "cell_type": "markdown",
      "metadata": {
        "id": "wE_p9AxjtdJ9"
      },
      "source": [
        "#### 삼각 함수(Trigonometrical Function)\n"
      ]
    },
    {
      "cell_type": "code",
      "metadata": {
        "id": "6bOSPS81tuo5",
        "colab": {
          "base_uri": "https://localhost:8080/"
        },
        "outputId": "252895c9-f6a7-4989-fb04-88f07e552202"
      },
      "source": [
        "t = np.linspace(0 , np.pi, 3)\n",
        "print(t)\n",
        "print(np.sin(t))\n",
        "print(np.cos(t))\n",
        "print(np.tan(t))\n"
      ],
      "execution_count": null,
      "outputs": [
        {
          "output_type": "stream",
          "name": "stdout",
          "text": [
            "[0.         1.57079633 3.14159265]\n",
            "[0.0000000e+00 1.0000000e+00 1.2246468e-16]\n",
            "[ 1.000000e+00  6.123234e-17 -1.000000e+00]\n",
            "[ 0.00000000e+00  1.63312394e+16 -1.22464680e-16]\n"
          ]
        }
      ]
    },
    {
      "cell_type": "code",
      "metadata": {
        "id": "v7m-AQW9uJ9u",
        "colab": {
          "base_uri": "https://localhost:8080/"
        },
        "outputId": "e4d7b3d0-901d-41e8-d251-42bd1e8e6dd7"
      },
      "source": [
        "x = [-1, 0, 1]\n",
        "print(np.arcsin(x))\n",
        "print(np.arccos(x))\n",
        "print(np.arctan(x))\n"
      ],
      "execution_count": null,
      "outputs": [
        {
          "output_type": "stream",
          "name": "stdout",
          "text": [
            "[-1.57079633  0.          1.57079633]\n",
            "[3.14159265 1.57079633 0.        ]\n",
            "[-0.78539816  0.          0.78539816]\n"
          ]
        }
      ]
    },
    {
      "cell_type": "markdown",
      "metadata": {
        "id": "hKJtYUVWwxQy"
      },
      "source": [
        "### 집계 함수(Aggregate Functions)![다운로드.png](data:image/png;base64,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)"
      ]
    },
    {
      "cell_type": "markdown",
      "source": [
        "함수 이름에 nan을 붙이면 안전모드\n",
        "ex) sum, nansum\n",
        "없는 함수도 있음"
      ],
      "metadata": {
        "id": "jwiSjVimjeO4"
      }
    },
    {
      "cell_type": "markdown",
      "metadata": {
        "id": "GdxMrX5l9m6W"
      },
      "source": [
        "#### sum(): 합 계산"
      ]
    },
    {
      "cell_type": "code",
      "metadata": {
        "id": "AJQ3GjLI0cZU",
        "colab": {
          "base_uri": "https://localhost:8080/"
        },
        "outputId": "059dcbe0-a38f-44a5-8c01-851df6c8423d"
      },
      "source": [
        "a2 = np.random.randint(1, 10, size=(3,3))\n",
        "print(a2)\n",
        "print(a2.sum(), np.sum(a2))\n",
        "print(np.sum(a2, axis=0))\n",
        "print(a2.sum(axis=1))"
      ],
      "execution_count": null,
      "outputs": [
        {
          "output_type": "stream",
          "name": "stdout",
          "text": [
            "[[6 4 6]\n",
            " [5 2 7]\n",
            " [1 6 9]]\n",
            "46 46\n",
            "[12 12 22]\n",
            "[16 14 16]\n"
          ]
        }
      ]
    },
    {
      "cell_type": "markdown",
      "metadata": {
        "id": "U4W4iIb9J4Zd"
      },
      "source": [
        "#### cumsum(): 누적합 계산"
      ]
    },
    {
      "cell_type": "code",
      "metadata": {
        "id": "SRZWZD3UJ4wo",
        "colab": {
          "base_uri": "https://localhost:8080/"
        },
        "outputId": "81abcc84-9c20-4664-ef82-124b18553b0b"
      },
      "source": [
        "print(a2)\n",
        "print(np.cumsum(a2))\n",
        "print(np.cumsum(a2, axis=0))\n",
        "print(np.cumsum(a2, axis=1))"
      ],
      "execution_count": null,
      "outputs": [
        {
          "output_type": "stream",
          "name": "stdout",
          "text": [
            "[[6 4 6]\n",
            " [5 2 7]\n",
            " [1 6 9]]\n",
            "[ 6 10 16 21 23 30 31 37 46]\n",
            "[[ 6  4  6]\n",
            " [11  6 13]\n",
            " [12 12 22]]\n",
            "[[ 6 10 16]\n",
            " [ 5  7 14]\n",
            " [ 1  7 16]]\n"
          ]
        }
      ]
    },
    {
      "cell_type": "markdown",
      "metadata": {
        "id": "pVaJRWQ-LV0f"
      },
      "source": [
        "#### diff(): 차분 계산"
      ]
    },
    {
      "cell_type": "code",
      "metadata": {
        "id": "yKjnWtGVLWJj",
        "colab": {
          "base_uri": "https://localhost:8080/"
        },
        "outputId": "a594fa02-6ec9-4fd4-8064-724c397223ee"
      },
      "source": [
        "print(a2)\n",
        "print(np.diff(a2))\n",
        "print(np.diff(a2, axis=0))\n",
        "print(np.diff(a2, axis=1))"
      ],
      "execution_count": null,
      "outputs": [
        {
          "output_type": "stream",
          "name": "stdout",
          "text": [
            "[[6 4 6]\n",
            " [5 2 7]\n",
            " [1 6 9]]\n",
            "[[-2  2]\n",
            " [-3  5]\n",
            " [ 5  3]]\n",
            "[[-1 -2  1]\n",
            " [-4  4  2]]\n",
            "[[-2  2]\n",
            " [-3  5]\n",
            " [ 5  3]]\n"
          ]
        }
      ]
    },
    {
      "cell_type": "markdown",
      "metadata": {
        "id": "b6I38HfA9vGL"
      },
      "source": [
        "#### prod(): 곱 계산"
      ]
    },
    {
      "cell_type": "code",
      "metadata": {
        "id": "rGPMXGe89y0O",
        "colab": {
          "base_uri": "https://localhost:8080/"
        },
        "outputId": "426d04fc-f3a1-4963-adc6-f8997a26e050"
      },
      "source": [
        "print(a2)\n",
        "print(np.prod(a2))\n",
        "print(np.prod(a2, axis=0))\n",
        "print(np.prod(a2, axis=1))"
      ],
      "execution_count": null,
      "outputs": [
        {
          "output_type": "stream",
          "name": "stdout",
          "text": [
            "[[6 4 6]\n",
            " [5 2 7]\n",
            " [1 6 9]]\n",
            "544320\n",
            "[ 30  48 378]\n",
            "[144  70  54]\n"
          ]
        }
      ]
    },
    {
      "cell_type": "markdown",
      "metadata": {
        "id": "RwaoVUGcKkkE"
      },
      "source": [
        "#### cumprod(): 누적곱 계산"
      ]
    },
    {
      "cell_type": "code",
      "metadata": {
        "id": "jwYoX9inKk4D",
        "colab": {
          "base_uri": "https://localhost:8080/"
        },
        "outputId": "3cb4d2b6-0b61-4a73-97c2-9b821a13d8d4"
      },
      "source": [
        "print(a2)\n",
        "print(np.cumprod(a2))\n",
        "print(np.cumprod(a2, axis=0))\n",
        "print(np.cumprod(a2, axis=1))"
      ],
      "execution_count": null,
      "outputs": [
        {
          "output_type": "stream",
          "name": "stdout",
          "text": [
            "[[6 4 6]\n",
            " [5 2 7]\n",
            " [1 6 9]]\n",
            "[     6     24    144    720   1440  10080  10080  60480 544320]\n",
            "[[  6   4   6]\n",
            " [ 30   8  42]\n",
            " [ 30  48 378]]\n",
            "[[  6  24 144]\n",
            " [  5  10  70]\n",
            " [  1   6  54]]\n"
          ]
        }
      ]
    },
    {
      "cell_type": "markdown",
      "metadata": {
        "id": "_LMAbL9hMV7T"
      },
      "source": [
        "#### dot()/matmul(): 점곱/행렬곱 계산"
      ]
    },
    {
      "cell_type": "code",
      "metadata": {
        "id": "xC6FBzF0MWW1",
        "colab": {
          "base_uri": "https://localhost:8080/"
        },
        "outputId": "e9623cc3-0e77-42d4-97ac-67ee4ded20a5"
      },
      "source": [
        "print(a2)\n",
        "b2  = np.ones_like(a2)\n",
        "print(b2)\n",
        "print(np.dot(a2, b2))\n",
        "print(np.matmul(a2, b2))"
      ],
      "execution_count": null,
      "outputs": [
        {
          "output_type": "stream",
          "name": "stdout",
          "text": [
            "[[6 4 6]\n",
            " [5 2 7]\n",
            " [1 6 9]]\n",
            "[[1 1 1]\n",
            " [1 1 1]\n",
            " [1 1 1]]\n",
            "[[16 16 16]\n",
            " [14 14 14]\n",
            " [16 16 16]]\n",
            "[[16 16 16]\n",
            " [14 14 14]\n",
            " [16 16 16]]\n"
          ]
        }
      ]
    },
    {
      "cell_type": "markdown",
      "metadata": {
        "id": "juVk3vnjPu31"
      },
      "source": [
        "#### tensordot(): 텐서곱 계산"
      ]
    },
    {
      "cell_type": "code",
      "metadata": {
        "id": "3LrcLOcjPvNI",
        "colab": {
          "base_uri": "https://localhost:8080/"
        },
        "outputId": "fe3a238f-12e9-4838-9040-896480e5edaa"
      },
      "source": [
        "print(a2)\n",
        "print(b2)\n",
        "print(np.tensordot(a2, b2))\n",
        "print(np.tensordot(a2, b2, axes=0))\n",
        "print(np.tensordot(a2, b2, axes=1))"
      ],
      "execution_count": null,
      "outputs": [
        {
          "output_type": "stream",
          "name": "stdout",
          "text": [
            "[[6 4 6]\n",
            " [5 2 7]\n",
            " [1 6 9]]\n",
            "[[1 1 1]\n",
            " [1 1 1]\n",
            " [1 1 1]]\n",
            "46\n",
            "[[[[6 6 6]\n",
            "   [6 6 6]\n",
            "   [6 6 6]]\n",
            "\n",
            "  [[4 4 4]\n",
            "   [4 4 4]\n",
            "   [4 4 4]]\n",
            "\n",
            "  [[6 6 6]\n",
            "   [6 6 6]\n",
            "   [6 6 6]]]\n",
            "\n",
            "\n",
            " [[[5 5 5]\n",
            "   [5 5 5]\n",
            "   [5 5 5]]\n",
            "\n",
            "  [[2 2 2]\n",
            "   [2 2 2]\n",
            "   [2 2 2]]\n",
            "\n",
            "  [[7 7 7]\n",
            "   [7 7 7]\n",
            "   [7 7 7]]]\n",
            "\n",
            "\n",
            " [[[1 1 1]\n",
            "   [1 1 1]\n",
            "   [1 1 1]]\n",
            "\n",
            "  [[6 6 6]\n",
            "   [6 6 6]\n",
            "   [6 6 6]]\n",
            "\n",
            "  [[9 9 9]\n",
            "   [9 9 9]\n",
            "   [9 9 9]]]]\n",
            "[[16 16 16]\n",
            " [14 14 14]\n",
            " [16 16 16]]\n"
          ]
        }
      ]
    },
    {
      "cell_type": "markdown",
      "metadata": {
        "id": "UzmZhB5TNRMX"
      },
      "source": [
        "#### cross(): 벡터곱"
      ]
    },
    {
      "cell_type": "code",
      "metadata": {
        "id": "xvT2hy1FNRkU",
        "colab": {
          "base_uri": "https://localhost:8080/"
        },
        "outputId": "2b35da9b-5a7c-42d8-cffb-9b2b1918e709"
      },
      "source": [
        "x = [1, 2, 3]\n",
        "y = [4, 5, 6]\n",
        "print(np.cross(x, y))"
      ],
      "execution_count": null,
      "outputs": [
        {
          "output_type": "stream",
          "name": "stdout",
          "text": [
            "[-3  6 -3]\n"
          ]
        }
      ]
    },
    {
      "cell_type": "markdown",
      "metadata": {
        "id": "SJVYmtrSO5YL"
      },
      "source": [
        "#### inner()/outer(): 내적/외적"
      ]
    },
    {
      "cell_type": "code",
      "metadata": {
        "id": "HJpomax7O5s6",
        "colab": {
          "base_uri": "https://localhost:8080/"
        },
        "outputId": "5eff6e34-1078-47ca-9abc-3c3e355f2e3a"
      },
      "source": [
        "print(a2)\n",
        "print(b2)\n",
        "print(np.inner(a2, b2))\n",
        "print(np.outer(a2, b2))"
      ],
      "execution_count": null,
      "outputs": [
        {
          "output_type": "stream",
          "name": "stdout",
          "text": [
            "[[6 4 6]\n",
            " [5 2 7]\n",
            " [1 6 9]]\n",
            "[[1 1 1]\n",
            " [1 1 1]\n",
            " [1 1 1]]\n",
            "[[16 16 16]\n",
            " [14 14 14]\n",
            " [16 16 16]]\n",
            "[[6 6 6 6 6 6 6 6 6]\n",
            " [4 4 4 4 4 4 4 4 4]\n",
            " [6 6 6 6 6 6 6 6 6]\n",
            " [5 5 5 5 5 5 5 5 5]\n",
            " [2 2 2 2 2 2 2 2 2]\n",
            " [7 7 7 7 7 7 7 7 7]\n",
            " [1 1 1 1 1 1 1 1 1]\n",
            " [6 6 6 6 6 6 6 6 6]\n",
            " [9 9 9 9 9 9 9 9 9]]\n"
          ]
        }
      ]
    },
    {
      "cell_type": "markdown",
      "metadata": {
        "id": "9CIotQgI_RQ-"
      },
      "source": [
        "#### mean(): 평균 계산"
      ]
    },
    {
      "cell_type": "code",
      "metadata": {
        "id": "g96wAEOT_bUk",
        "colab": {
          "base_uri": "https://localhost:8080/"
        },
        "outputId": "bf240d3e-fd7e-4ff0-9afc-a196acda305b"
      },
      "source": [
        "print(a2)\n",
        "print(np.mean(a2))\n",
        "print(np.mean(a2, axis=0))\n",
        "print(np.mean(a2, axis=1))"
      ],
      "execution_count": null,
      "outputs": [
        {
          "output_type": "stream",
          "name": "stdout",
          "text": [
            "[[6 4 6]\n",
            " [5 2 7]\n",
            " [1 6 9]]\n",
            "5.111111111111111\n",
            "[4.         4.         7.33333333]\n",
            "[5.33333333 4.66666667 5.33333333]\n"
          ]
        }
      ]
    },
    {
      "cell_type": "markdown",
      "metadata": {
        "id": "wAG_zijP_Z5o"
      },
      "source": [
        "#### std(): 표준 편차 계산"
      ]
    },
    {
      "cell_type": "code",
      "metadata": {
        "id": "hlpnuyug_TXA",
        "colab": {
          "base_uri": "https://localhost:8080/"
        },
        "outputId": "94c21323-762f-49da-b2f6-5f0452bf96c1"
      },
      "source": [
        "print(a2)\n",
        "print(np.std(a2))\n",
        "print(np.std(a2, axis=0))\n",
        "print(np.std(a2, axis=1))"
      ],
      "execution_count": null,
      "outputs": [
        {
          "output_type": "stream",
          "name": "stdout",
          "text": [
            "[[6 4 6]\n",
            " [5 2 7]\n",
            " [1 6 9]]\n",
            "2.3306863292670035\n",
            "[2.1602469  1.63299316 1.24721913]\n",
            "[0.94280904 2.05480467 3.29983165]\n"
          ]
        }
      ]
    },
    {
      "cell_type": "markdown",
      "metadata": {
        "id": "5FFTCCDaAEhx"
      },
      "source": [
        "#### var(): 분산 계산"
      ]
    },
    {
      "cell_type": "code",
      "metadata": {
        "id": "CRMNkSdzAGZG",
        "colab": {
          "base_uri": "https://localhost:8080/"
        },
        "outputId": "30c2dff9-8ac9-4b0a-c1bb-8e9bf1312940"
      },
      "source": [
        "print(a2)\n",
        "print(np.var(a2))\n",
        "print(np.var(a2, axis=0))\n",
        "print(np.var(a2, axis=1))"
      ],
      "execution_count": null,
      "outputs": [
        {
          "output_type": "stream",
          "name": "stdout",
          "text": [
            "[[6 4 6]\n",
            " [5 2 7]\n",
            " [1 6 9]]\n",
            "5.432098765432098\n",
            "[4.66666667 2.66666667 1.55555556]\n",
            "[ 0.88888889  4.22222222 10.88888889]\n"
          ]
        }
      ]
    },
    {
      "cell_type": "markdown",
      "metadata": {
        "id": "QFeh-4tmCCrU"
      },
      "source": [
        "#### min(): 최소값"
      ]
    },
    {
      "cell_type": "code",
      "metadata": {
        "id": "SMNCfYBQCEtf",
        "colab": {
          "base_uri": "https://localhost:8080/"
        },
        "outputId": "7f06bad0-3cd3-4971-e032-f77c153243dc"
      },
      "source": [
        "print(a2)\n",
        "print(np.min(a2))\n",
        "print(np.min(a2, axis=0))\n",
        "print(np.min(a2, axis=1))"
      ],
      "execution_count": null,
      "outputs": [
        {
          "output_type": "stream",
          "name": "stdout",
          "text": [
            "[[6 4 6]\n",
            " [5 2 7]\n",
            " [1 6 9]]\n",
            "1\n",
            "[1 2 6]\n",
            "[4 2 1]\n"
          ]
        }
      ]
    },
    {
      "cell_type": "markdown",
      "metadata": {
        "id": "A3n_JBnBJ2bo"
      },
      "source": [
        "#### max(): 최대값"
      ]
    },
    {
      "cell_type": "code",
      "metadata": {
        "id": "FmuOFKGAJ6Pf",
        "colab": {
          "base_uri": "https://localhost:8080/"
        },
        "outputId": "4034438a-862d-49ae-db94-d512e6f61086"
      },
      "source": [
        "print(a2)\n",
        "print(np.max(a2))\n",
        "print(np.max(a2, axis=0))\n",
        "print(np.max(a2, axis=1))"
      ],
      "execution_count": null,
      "outputs": [
        {
          "output_type": "stream",
          "name": "stdout",
          "text": [
            "[[6 4 6]\n",
            " [5 2 7]\n",
            " [1 6 9]]\n",
            "9\n",
            "[6 6 9]\n",
            "[6 7 9]\n"
          ]
        }
      ]
    },
    {
      "cell_type": "markdown",
      "metadata": {
        "id": "PvGOKDP0J_5b"
      },
      "source": [
        "#### argmin(): 최소값 인덱스"
      ]
    },
    {
      "cell_type": "code",
      "metadata": {
        "id": "1ILP7L3yKCqA",
        "colab": {
          "base_uri": "https://localhost:8080/"
        },
        "outputId": "17eed762-fdb8-4583-ab6b-c2ab36c0c47b"
      },
      "source": [
        "print(a2)\n",
        "print(np.argmin(a2))\n",
        "print(np.argmin(a2, axis=0))\n",
        "print(np.argmin(a2, axis=1))"
      ],
      "execution_count": null,
      "outputs": [
        {
          "output_type": "stream",
          "name": "stdout",
          "text": [
            "[[6 4 6]\n",
            " [5 2 7]\n",
            " [1 6 9]]\n",
            "6\n",
            "[2 1 0]\n",
            "[1 1 0]\n"
          ]
        }
      ]
    },
    {
      "cell_type": "markdown",
      "metadata": {
        "id": "23IcSctIKbUa"
      },
      "source": [
        "#### argmax(): 최대값 인덱스"
      ]
    },
    {
      "cell_type": "code",
      "metadata": {
        "id": "2m21cfCFKd-Q"
      },
      "source": [
        "print(a2)\n",
        "print(np.argmax(a2))\n",
        "print(np.argmax(a2, axis=0))\n",
        "print(np.argmax(a2, axis=1))"
      ],
      "execution_count": null,
      "outputs": []
    },
    {
      "cell_type": "markdown",
      "metadata": {
        "id": "3TjeNFQLKuZb"
      },
      "source": [
        "#### median(): 중앙값"
      ]
    },
    {
      "cell_type": "code",
      "metadata": {
        "id": "kSLN17bpKwv6",
        "colab": {
          "base_uri": "https://localhost:8080/"
        },
        "outputId": "382f22d4-14a1-4386-8d1b-b7547c89b761"
      },
      "source": [
        "print(a2)\n",
        "print(np.median(a2))\n",
        "print(np.median(a2, axis=0))\n",
        "print(np.median(a2, axis=1))"
      ],
      "execution_count": null,
      "outputs": [
        {
          "output_type": "stream",
          "name": "stdout",
          "text": [
            "[[6 4 6]\n",
            " [5 2 7]\n",
            " [1 6 9]]\n",
            "6.0\n",
            "[5. 4. 7.]\n",
            "[6. 5. 6.]\n"
          ]
        }
      ]
    },
    {
      "cell_type": "markdown",
      "metadata": {
        "id": "df-Id-nhLs3L"
      },
      "source": [
        "#### percentile(): 백분위 수\n",
        "\n"
      ]
    },
    {
      "cell_type": "code",
      "metadata": {
        "id": "N-TCx9hnLvhK",
        "colab": {
          "base_uri": "https://localhost:8080/"
        },
        "outputId": "59eba0d1-25e5-4684-97d3-cb5724746037"
      },
      "source": [
        "a1 = np.array([0, 1, 2, 3])\n",
        "print(a1)\n",
        "print(np.percentile(a1, [0, 20, 40, 60 ,80, 100], interpolation='linear'))\n",
        "print(np.percentile(a1, [0, 20, 40, 60 ,80, 100], interpolation='higher'))\n",
        "print(np.percentile(a1, [0, 20, 40, 60 ,80, 100], interpolation='lower'))\n",
        "print(np.percentile(a1, [0, 20, 40, 60 ,80, 100], interpolation='nearest'))\n",
        "print(np.percentile(a1, [0, 20, 40, 60 ,80, 100], interpolation='midpoint'))"
      ],
      "execution_count": null,
      "outputs": [
        {
          "output_type": "stream",
          "name": "stdout",
          "text": [
            "[0 1 2 3]\n",
            "[0.  0.6 1.2 1.8 2.4 3. ]\n",
            "[0 1 2 2 3 3]\n",
            "[0 0 1 1 2 3]\n",
            "[0 1 1 2 2 3]\n",
            "[0.  0.5 1.5 1.5 2.5 3. ]\n"
          ]
        },
        {
          "output_type": "stream",
          "name": "stderr",
          "text": [
            "<ipython-input-67-fbe5892445c1>:3: DeprecationWarning: the `interpolation=` argument to percentile was renamed to `method=`, which has additional options.\n",
            "Users of the modes 'nearest', 'lower', 'higher', or 'midpoint' are encouraged to review the method they used. (Deprecated NumPy 1.22)\n",
            "  print(np.percentile(a1, [0, 20, 40, 60 ,80, 100], interpolation='linear'))\n",
            "<ipython-input-67-fbe5892445c1>:4: DeprecationWarning: the `interpolation=` argument to percentile was renamed to `method=`, which has additional options.\n",
            "Users of the modes 'nearest', 'lower', 'higher', or 'midpoint' are encouraged to review the method they used. (Deprecated NumPy 1.22)\n",
            "  print(np.percentile(a1, [0, 20, 40, 60 ,80, 100], interpolation='higher'))\n",
            "<ipython-input-67-fbe5892445c1>:5: DeprecationWarning: the `interpolation=` argument to percentile was renamed to `method=`, which has additional options.\n",
            "Users of the modes 'nearest', 'lower', 'higher', or 'midpoint' are encouraged to review the method they used. (Deprecated NumPy 1.22)\n",
            "  print(np.percentile(a1, [0, 20, 40, 60 ,80, 100], interpolation='lower'))\n",
            "<ipython-input-67-fbe5892445c1>:6: DeprecationWarning: the `interpolation=` argument to percentile was renamed to `method=`, which has additional options.\n",
            "Users of the modes 'nearest', 'lower', 'higher', or 'midpoint' are encouraged to review the method they used. (Deprecated NumPy 1.22)\n",
            "  print(np.percentile(a1, [0, 20, 40, 60 ,80, 100], interpolation='nearest'))\n",
            "<ipython-input-67-fbe5892445c1>:7: DeprecationWarning: the `interpolation=` argument to percentile was renamed to `method=`, which has additional options.\n",
            "Users of the modes 'nearest', 'lower', 'higher', or 'midpoint' are encouraged to review the method they used. (Deprecated NumPy 1.22)\n",
            "  print(np.percentile(a1, [0, 20, 40, 60 ,80, 100], interpolation='midpoint'))\n"
          ]
        }
      ]
    },
    {
      "cell_type": "markdown",
      "metadata": {
        "id": "x0NnNsvvNDIs"
      },
      "source": [
        "#### any()"
      ]
    },
    {
      "cell_type": "code",
      "metadata": {
        "id": "I1XDqsFxOMvA",
        "colab": {
          "base_uri": "https://localhost:8080/"
        },
        "outputId": "0a83aace-1de9-421d-b000-900fae5c72c5"
      },
      "source": [
        "a2 = np.array([[False, False, True],\n",
        "              [False, True, True],\n",
        "              [False, True, True]])\n",
        "print(a2)\n",
        "print(np.any(a2))\n",
        "print(np.any(a2, axis=0))\n",
        "print(np.any(a2, axis=1))"
      ],
      "execution_count": null,
      "outputs": [
        {
          "output_type": "stream",
          "name": "stdout",
          "text": [
            "[[False False  True]\n",
            " [False  True  True]\n",
            " [False  True  True]]\n",
            "True\n",
            "[False  True  True]\n",
            "[ True  True  True]\n"
          ]
        }
      ]
    },
    {
      "cell_type": "markdown",
      "metadata": {
        "id": "Uw-wjYgyONBZ"
      },
      "source": [
        "#### all()"
      ]
    },
    {
      "cell_type": "code",
      "metadata": {
        "id": "sXi2AHOHONYq",
        "colab": {
          "base_uri": "https://localhost:8080/"
        },
        "outputId": "c9dd3748-7e85-4fb8-c923-c581797128a4"
      },
      "source": [
        "a2 = np.array([[False, False, True],\n",
        "              [True, True, True],\n",
        "              [False, True, True]])\n",
        "print(a2)\n",
        "print(np.all(a2))\n",
        "print(np.all(a2, axis=0))\n",
        "print(np.all(a2, axis=1))"
      ],
      "execution_count": null,
      "outputs": [
        {
          "output_type": "stream",
          "name": "stdout",
          "text": [
            "[[False False  True]\n",
            " [ True  True  True]\n",
            " [False  True  True]]\n",
            "False\n",
            "[False False  True]\n",
            "[False  True False]\n"
          ]
        }
      ]
    },
    {
      "cell_type": "markdown",
      "metadata": {
        "id": "0n7lgzmUwqr1"
      },
      "source": [
        "### 비교 연산(Comparison Operators)\n"
      ]
    },
    {
      "cell_type": "code",
      "metadata": {
        "id": "E00V-nBTVnCu",
        "colab": {
          "base_uri": "https://localhost:8080/"
        },
        "outputId": "47d60b2a-340c-4711-cebe-23645b7a270f"
      },
      "source": [
        "a1 = np.arange(1, 10)\n",
        "print(a1)\n",
        "print(a1 == 5)\n",
        "print(a1 != 5)\n",
        "print(a1 < 5)\n",
        "print(a1 <= 5)\n",
        "print(a1 > 5)\n",
        "print(a1 >= 5)\n"
      ],
      "execution_count": null,
      "outputs": [
        {
          "output_type": "stream",
          "name": "stdout",
          "text": [
            "[1 2 3 4 5 6 7 8 9]\n",
            "[False False False False  True False False False False]\n",
            "[ True  True  True  True False  True  True  True  True]\n",
            "[ True  True  True  True False False False False False]\n",
            "[ True  True  True  True  True False False False False]\n",
            "[False False False False False  True  True  True  True]\n",
            "[False False False False  True  True  True  True  True]\n"
          ]
        }
      ]
    },
    {
      "cell_type": "code",
      "metadata": {
        "id": "3MwV1CU1WsWS",
        "colab": {
          "base_uri": "https://localhost:8080/"
        },
        "outputId": "1e8b2ef8-6f24-4d29-a1f1-1c07e2c5f19c"
      },
      "source": [
        "a2 = np.arange(1, 10).reshape(3, 3)\n",
        "print(a2)\n",
        "print(np.sum(a2))\n",
        "print(np.count_nonzero(a2 > 5))\n",
        "print(np.sum(a2 > 5))\n",
        "print(np.sum(a2 > 5, axis=0))\n",
        "print(np.sum(a2 > 5, axis=1))\n",
        "print(np.any(a2 > 5))\n",
        "print(np.any(a2 > 5, axis=0))\n",
        "print(np.any(a2 > 5, axis=1))\n",
        "print(np.all(a2 > 5))\n",
        "print(np.all(a2 > 5, axis=0))\n",
        "print(np.all(a2 > 5, axis=1))"
      ],
      "execution_count": null,
      "outputs": [
        {
          "output_type": "stream",
          "name": "stdout",
          "text": [
            "[[1 2 3]\n",
            " [4 5 6]\n",
            " [7 8 9]]\n",
            "45\n",
            "4\n",
            "4\n",
            "[1 1 2]\n",
            "[0 1 3]\n",
            "True\n",
            "[ True  True  True]\n",
            "[False  True  True]\n",
            "False\n",
            "[False False False]\n",
            "[False False  True]\n"
          ]
        }
      ]
    },
    {
      "cell_type": "code",
      "metadata": {
        "id": "D4cuMoyEPn8R",
        "colab": {
          "base_uri": "https://localhost:8080/"
        },
        "outputId": "1f6213ab-8dd5-4849-ca0a-d6baef03f2c3"
      },
      "source": [
        "a1 = np.array([1, 2, 3, 4, 5])\n",
        "b1 = np.array([1, 2, 3, 3, 4])\n",
        "print(a1)\n",
        "print(b1)\n",
        "print(np.isclose(a1, b1))"
      ],
      "execution_count": null,
      "outputs": [
        {
          "output_type": "stream",
          "name": "stdout",
          "text": [
            "[1 2 3 4 5]\n",
            "[1 2 3 3 4]\n",
            "[ True  True  True False False]\n"
          ]
        }
      ]
    },
    {
      "cell_type": "code",
      "metadata": {
        "id": "af9VSc6FyMBh",
        "colab": {
          "base_uri": "https://localhost:8080/"
        },
        "outputId": "8b911c51-90b0-4f67-e6bf-1081e88845a0"
      },
      "source": [
        "a1 = np.array([np.nan, 2, np.inf, 4, np.NINF])\n",
        "print(a1)\n",
        "print(np.isnan(a1))\n",
        "print(np.isinf(a1))\n",
        "print(np.isfinite(a1))"
      ],
      "execution_count": 5,
      "outputs": [
        {
          "output_type": "stream",
          "name": "stdout",
          "text": [
            "[ nan   2.  inf   4. -inf]\n",
            "[ True False False False False]\n",
            "[False False  True False  True]\n",
            "[False  True False  True False]\n"
          ]
        }
      ]
    },
    {
      "cell_type": "markdown",
      "metadata": {
        "id": "4BHMetMlYmt-"
      },
      "source": [
        "#### 불리언 연산자(Boolean Operators)\n"
      ]
    },
    {
      "cell_type": "code",
      "metadata": {
        "id": "ZV1-8DkUHOZq",
        "colab": {
          "base_uri": "https://localhost:8080/"
        },
        "outputId": "29a6be8c-cd40-42ec-89c8-b286b185e798"
      },
      "source": [
        "a2 = np.arange(1, 10).reshape(3, 3)\n",
        "print(a2)\n",
        "print((a2 > 5) & (a2 < 8) )\n",
        "print(a2[(a2 >5 ) & (a2 < 8)])\n",
        "\n",
        "print((a2 > 5) | (a2 < 8) )\n",
        "print(a2[(a2 >5 ) | (a2 < 8)])\n",
        "\n",
        "print((a2 > 5) ^ (a2 < 8) )\n",
        "print(a2[(a2 >5 ) ^ (a2 < 8)])\n",
        "\n",
        "print(~(a2 > 5))\n",
        "print(a2[~(a2 > 5)])"
      ],
      "execution_count": 9,
      "outputs": [
        {
          "output_type": "stream",
          "name": "stdout",
          "text": [
            "[[1 2 3]\n",
            " [4 5 6]\n",
            " [7 8 9]]\n",
            "[[False False False]\n",
            " [False False  True]\n",
            " [ True False False]]\n",
            "[6 7]\n",
            "[[ True  True  True]\n",
            " [ True  True  True]\n",
            " [ True  True  True]]\n",
            "[1 2 3 4 5 6 7 8 9]\n",
            "[[ True  True  True]\n",
            " [ True  True False]\n",
            " [False  True  True]]\n",
            "[1 2 3 4 5 8 9]\n",
            "[[ True  True  True]\n",
            " [ True  True False]\n",
            " [False False False]]\n",
            "[1 2 3 4 5]\n"
          ]
        }
      ]
    },
    {
      "cell_type": "markdown",
      "metadata": {
        "id": "FlQJVeGBxIFw"
      },
      "source": [
        "### 배열 정렬"
      ]
    },
    {
      "cell_type": "code",
      "metadata": {
        "id": "x0sodUMqLU37",
        "colab": {
          "base_uri": "https://localhost:8080/"
        },
        "outputId": "8102b266-3a48-484e-9ff0-baf377bdac79"
      },
      "source": [
        "a1 = np.random.randint(1, 10, size=10)\n",
        "print(a1)\n",
        "print(np.sort(a1))\n",
        "print(a1)\n",
        "print(np.argsort(a1))\n",
        "print(a1)\n",
        "print(a1.sort())\n",
        "print(a1)"
      ],
      "execution_count": 11,
      "outputs": [
        {
          "output_type": "stream",
          "name": "stdout",
          "text": [
            "[3 8 2 6 1 9 6 2 4 7]\n",
            "[1 2 2 3 4 6 6 7 8 9]\n",
            "[3 8 2 6 1 9 6 2 4 7]\n",
            "[4 2 7 0 8 3 6 9 1 5]\n",
            "[3 8 2 6 1 9 6 2 4 7]\n",
            "None\n",
            "[1 2 2 3 4 6 6 7 8 9]\n"
          ]
        }
      ]
    },
    {
      "cell_type": "code",
      "metadata": {
        "id": "FO_sO5POzeMp",
        "colab": {
          "base_uri": "https://localhost:8080/"
        },
        "outputId": "14a2abb2-2261-4b35-969d-c15fc68b9572"
      },
      "source": [
        "a2 = np.random.randint(1, 10, size=(3, 3))\n",
        "print(a2)\n",
        "print(np.sort(a2, axis=0))\n",
        "print(np.sort(a2, axis=1))"
      ],
      "execution_count": 14,
      "outputs": [
        {
          "output_type": "stream",
          "name": "stdout",
          "text": [
            "[[1 4 4]\n",
            " [9 1 6]\n",
            " [3 3 9]]\n",
            "[[1 1 4]\n",
            " [3 3 6]\n",
            " [9 4 9]]\n",
            "[[1 4 4]\n",
            " [1 6 9]\n",
            " [3 3 9]]\n"
          ]
        }
      ]
    },
    {
      "cell_type": "markdown",
      "metadata": {
        "id": "yYSItPz_00sZ"
      },
      "source": [
        "#### 부분 정렬\n",
        "\n",
        "* `partition()`: 배열에서 k개의 작은 값을 반환"
      ]
    },
    {
      "cell_type": "code",
      "metadata": {
        "id": "QQwov4N00YFP",
        "colab": {
          "base_uri": "https://localhost:8080/"
        },
        "outputId": "a32d63af-fa45-4fed-df7e-6245e07a8b6b"
      },
      "source": [
        "a1 = np.random.randint(1, 10, size=10)\n",
        "print(a1)\n",
        "print(np.partition(a1, 3))"
      ],
      "execution_count": 15,
      "outputs": [
        {
          "output_type": "stream",
          "name": "stdout",
          "text": [
            "[3 9 6 1 9 9 3 2 2 5]\n",
            "[1 2 2 3 3 5 9 9 6 9]\n"
          ]
        }
      ]
    },
    {
      "cell_type": "code",
      "source": [
        "a2 = np.random.randint(1, 10, size=(5, 5))\n",
        "print(a2)\n",
        "print(np.partition(a2, 3))\n",
        "print(np.partition(a2, 3, axis=0))\n",
        "print(np.partition(a2, 3, axis=1))"
      ],
      "metadata": {
        "colab": {
          "base_uri": "https://localhost:8080/"
        },
        "id": "7-NLbvuytUpP",
        "outputId": "4d5ec4ad-9e56-4f85-ef33-a9b3e0541953"
      },
      "execution_count": 16,
      "outputs": [
        {
          "output_type": "stream",
          "name": "stdout",
          "text": [
            "[[8 5 5 9 3]\n",
            " [4 4 1 2 6]\n",
            " [4 2 4 1 7]\n",
            " [6 9 9 1 3]\n",
            " [6 8 3 4 7]]\n",
            "[[3 5 5 8 9]\n",
            " [2 1 4 4 6]\n",
            " [1 4 2 4 7]\n",
            " [1 3 6 9 9]\n",
            " [4 3 6 7 8]]\n",
            "[[4 4 1 1 3]\n",
            " [4 2 3 1 3]\n",
            " [6 5 4 2 6]\n",
            " [6 8 5 4 7]\n",
            " [8 9 9 9 7]]\n",
            "[[3 5 5 8 9]\n",
            " [2 1 4 4 6]\n",
            " [1 4 2 4 7]\n",
            " [1 3 6 9 9]\n",
            " [4 3 6 7 8]]\n"
          ]
        }
      ]
    },
    {
      "cell_type": "markdown",
      "metadata": {
        "id": "77DSA72ML5cI"
      },
      "source": [
        "## 배열 입출력\n"
      ]
    },
    {
      "cell_type": "code",
      "metadata": {
        "id": "da-Mm_gzIs7U",
        "colab": {
          "base_uri": "https://localhost:8080/"
        },
        "outputId": "3e39ca8e-c659-47bb-bef3-7f287f49f940"
      },
      "source": [
        "a2 = np.random.randint(1, 10, size=(5, 5))\n",
        "print(a2)\n",
        "\n",
        "np.save(\"a\", a2)"
      ],
      "execution_count": 17,
      "outputs": [
        {
          "output_type": "stream",
          "name": "stdout",
          "text": [
            "[[3 3 3 7 5]\n",
            " [4 4 5 3 8]\n",
            " [9 3 9 3 4]\n",
            " [2 2 6 2 3]\n",
            " [8 8 9 3 5]]\n"
          ]
        }
      ]
    },
    {
      "cell_type": "code",
      "metadata": {
        "id": "pFOWyDvAsf11",
        "colab": {
          "base_uri": "https://localhost:8080/"
        },
        "outputId": "d96aced6-881b-4ef0-e849-1522a4fc3b27"
      },
      "source": [
        "!ls"
      ],
      "execution_count": 18,
      "outputs": [
        {
          "output_type": "stream",
          "name": "stdout",
          "text": [
            "a.npy  sample_data\n"
          ]
        }
      ]
    },
    {
      "cell_type": "code",
      "metadata": {
        "id": "Hvb_ilyisoIV",
        "colab": {
          "base_uri": "https://localhost:8080/"
        },
        "outputId": "4115838b-57b9-48b1-9533-e317a78b4933"
      },
      "source": [
        "b2 = np.random.randint(1, 10, size=(5, 5))\n",
        "print(b2)\n",
        "np.savez(\"ab\", a2, b2)"
      ],
      "execution_count": 19,
      "outputs": [
        {
          "output_type": "stream",
          "name": "stdout",
          "text": [
            "[[8 3 7 4 8]\n",
            " [5 9 9 5 2]\n",
            " [4 8 9 5 6]\n",
            " [4 6 1 7 2]\n",
            " [2 8 3 5 5]]\n"
          ]
        }
      ]
    },
    {
      "cell_type": "code",
      "metadata": {
        "id": "ArWZfL31s1wU",
        "colab": {
          "base_uri": "https://localhost:8080/"
        },
        "outputId": "ae6829b6-c7e9-428f-ab72-f015412e307e"
      },
      "source": [
        "!ls"
      ],
      "execution_count": 20,
      "outputs": [
        {
          "output_type": "stream",
          "name": "stdout",
          "text": [
            "ab.npz\ta.npy  sample_data\n"
          ]
        }
      ]
    },
    {
      "cell_type": "code",
      "metadata": {
        "id": "che4cEJEs2Tr",
        "colab": {
          "base_uri": "https://localhost:8080/"
        },
        "outputId": "1dc45b07-178a-40b8-dfd4-b6e7ca25150a"
      },
      "source": [
        "npy = np.load(\"a.npy\")\n",
        "print(npy)"
      ],
      "execution_count": 21,
      "outputs": [
        {
          "output_type": "stream",
          "name": "stdout",
          "text": [
            "[[3 3 3 7 5]\n",
            " [4 4 5 3 8]\n",
            " [9 3 9 3 4]\n",
            " [2 2 6 2 3]\n",
            " [8 8 9 3 5]]\n"
          ]
        }
      ]
    },
    {
      "cell_type": "code",
      "metadata": {
        "id": "X2yIUsYvtMj6",
        "colab": {
          "base_uri": "https://localhost:8080/"
        },
        "outputId": "2388513a-56a3-4971-fcfa-9c56dc04a09a"
      },
      "source": [
        "npz = np.load(\"ab.npz\")\n",
        "print(npz.files)\n",
        "print(npz['arr_0'])\n",
        "print(npz['arr_1'])"
      ],
      "execution_count": 24,
      "outputs": [
        {
          "output_type": "stream",
          "name": "stdout",
          "text": [
            "['arr_0', 'arr_1']\n",
            "[[3 3 3 7 5]\n",
            " [4 4 5 3 8]\n",
            " [9 3 9 3 4]\n",
            " [2 2 6 2 3]\n",
            " [8 8 9 3 5]]\n",
            "[[8 3 7 4 8]\n",
            " [5 9 9 5 2]\n",
            " [4 8 9 5 6]\n",
            " [4 6 1 7 2]\n",
            " [2 8 3 5 5]]\n"
          ]
        }
      ]
    },
    {
      "cell_type": "code",
      "metadata": {
        "id": "Yj5ec-CYtaH1",
        "colab": {
          "base_uri": "https://localhost:8080/"
        },
        "outputId": "8ef7a1a3-af61-4ad2-c1fd-18ab0abde0bf"
      },
      "source": [
        "print(a2)\n",
        "np.savetxt(\"a.csv\", a2, delimiter=\",\")"
      ],
      "execution_count": 25,
      "outputs": [
        {
          "output_type": "stream",
          "name": "stdout",
          "text": [
            "[[3 3 3 7 5]\n",
            " [4 4 5 3 8]\n",
            " [9 3 9 3 4]\n",
            " [2 2 6 2 3]\n",
            " [8 8 9 3 5]]\n"
          ]
        }
      ]
    },
    {
      "cell_type": "code",
      "metadata": {
        "id": "_NIDrc-VuPmv",
        "colab": {
          "base_uri": "https://localhost:8080/"
        },
        "outputId": "2e2d72c6-d4b3-4f30-afb9-34e0f8358949"
      },
      "source": [
        "!ls"
      ],
      "execution_count": 26,
      "outputs": [
        {
          "output_type": "stream",
          "name": "stdout",
          "text": [
            "ab.npz\ta.csv  a.npy  sample_data\n"
          ]
        }
      ]
    },
    {
      "cell_type": "code",
      "metadata": {
        "id": "bPhmIoVBuQMf",
        "colab": {
          "base_uri": "https://localhost:8080/"
        },
        "outputId": "84cf0c94-a8fc-4b26-8f8a-11b050761071"
      },
      "source": [
        "!cat a.csv"
      ],
      "execution_count": 27,
      "outputs": [
        {
          "output_type": "stream",
          "name": "stdout",
          "text": [
            "3.000000000000000000e+00,3.000000000000000000e+00,3.000000000000000000e+00,7.000000000000000000e+00,5.000000000000000000e+00\n",
            "4.000000000000000000e+00,4.000000000000000000e+00,5.000000000000000000e+00,3.000000000000000000e+00,8.000000000000000000e+00\n",
            "9.000000000000000000e+00,3.000000000000000000e+00,9.000000000000000000e+00,3.000000000000000000e+00,4.000000000000000000e+00\n",
            "2.000000000000000000e+00,2.000000000000000000e+00,6.000000000000000000e+00,2.000000000000000000e+00,3.000000000000000000e+00\n",
            "8.000000000000000000e+00,8.000000000000000000e+00,9.000000000000000000e+00,3.000000000000000000e+00,5.000000000000000000e+00\n"
          ]
        }
      ]
    },
    {
      "cell_type": "code",
      "metadata": {
        "id": "FeB2p4azuTDv",
        "colab": {
          "base_uri": "https://localhost:8080/"
        },
        "outputId": "f4e01c3b-3826-43af-8dae-6e4b9c6e077d"
      },
      "source": [
        "csv = np.loadtxt(\"a.csv\", delimiter=\",\")\n",
        "print(csv)"
      ],
      "execution_count": 28,
      "outputs": [
        {
          "output_type": "stream",
          "name": "stdout",
          "text": [
            "[[3. 3. 3. 7. 5.]\n",
            " [4. 4. 5. 3. 8.]\n",
            " [9. 3. 9. 3. 4.]\n",
            " [2. 2. 6. 2. 3.]\n",
            " [8. 8. 9. 3. 5.]]\n"
          ]
        }
      ]
    },
    {
      "cell_type": "code",
      "metadata": {
        "id": "IUg8Vg4fuxR5",
        "colab": {
          "base_uri": "https://localhost:8080/"
        },
        "outputId": "6be352f7-6806-445b-be80-07a4d62b22d1"
      },
      "source": [
        "print(b2)\n",
        "np.savetxt(\"b.csv\", b2, delimiter=\",\", fmt=\"%.2e\", header=\"c1, c2, c3, c4, c5\")"
      ],
      "execution_count": 29,
      "outputs": [
        {
          "output_type": "stream",
          "name": "stdout",
          "text": [
            "[[8 3 7 4 8]\n",
            " [5 9 9 5 2]\n",
            " [4 8 9 5 6]\n",
            " [4 6 1 7 2]\n",
            " [2 8 3 5 5]]\n"
          ]
        }
      ]
    },
    {
      "cell_type": "code",
      "metadata": {
        "id": "lIK5dSv6vtm2",
        "colab": {
          "base_uri": "https://localhost:8080/"
        },
        "outputId": "22fdeeea-914c-4f45-c73f-b26778ba9973"
      },
      "source": [
        "!cat b.csv"
      ],
      "execution_count": 30,
      "outputs": [
        {
          "output_type": "stream",
          "name": "stdout",
          "text": [
            "# c1, c2, c3, c4, c5\n",
            "8.00e+00,3.00e+00,7.00e+00,4.00e+00,8.00e+00\n",
            "5.00e+00,9.00e+00,9.00e+00,5.00e+00,2.00e+00\n",
            "4.00e+00,8.00e+00,9.00e+00,5.00e+00,6.00e+00\n",
            "4.00e+00,6.00e+00,1.00e+00,7.00e+00,2.00e+00\n",
            "2.00e+00,8.00e+00,3.00e+00,5.00e+00,5.00e+00\n"
          ]
        }
      ]
    },
    {
      "cell_type": "code",
      "metadata": {
        "id": "l4O-gVxdv8-d",
        "colab": {
          "base_uri": "https://localhost:8080/"
        },
        "outputId": "8e05e1c3-6207-485b-80f3-0371d9f7282c"
      },
      "source": [
        "csv = np.loadtxt(\"b.csv\", delimiter=\",\")\n",
        "print(csv)"
      ],
      "execution_count": 31,
      "outputs": [
        {
          "output_type": "stream",
          "name": "stdout",
          "text": [
            "[[8. 3. 7. 4. 8.]\n",
            " [5. 9. 9. 5. 2.]\n",
            " [4. 8. 9. 5. 6.]\n",
            " [4. 6. 1. 7. 2.]\n",
            " [2. 8. 3. 5. 5.]]\n"
          ]
        }
      ]
    },
    {
      "cell_type": "markdown",
      "metadata": {
        "id": "JM2Ghx2NGloN"
      },
      "source": [
        "\n",
        "\n",
        "---\n",
        "\n"
      ]
    }
  ]
}